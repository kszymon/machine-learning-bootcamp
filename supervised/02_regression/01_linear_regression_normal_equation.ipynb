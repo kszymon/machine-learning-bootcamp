{
  "nbformat": 4,
  "nbformat_minor": 0,
  "metadata": {
    "colab": {
      "provenance": [],
      "authorship_tag": "ABX9TyNj1Z2KxtEVmcmM34Gv7T1V",
      "include_colab_link": true
    },
    "kernelspec": {
      "name": "python3",
      "display_name": "Python 3"
    },
    "language_info": {
      "name": "python"
    }
  },
  "cells": [
    {
      "cell_type": "markdown",
      "metadata": {
        "id": "view-in-github",
        "colab_type": "text"
      },
      "source": [
        "<a href=\"https://colab.research.google.com/github/kszymon/machine-learning-bootcamp/blob/main/supervised/02_regression/01_linear_regression_normal_equation.ipynb\" target=\"_parent\"><img src=\"https://colab.research.google.com/assets/colab-badge.svg\" alt=\"Open In Colab\"/></a>"
      ]
    },
    {
      "cell_type": "markdown",
      "source": [
        "### scikit-learn\n",
        "Strona biblioteki: [https://scikit-learn.org](https://scikit-learn.org)  \n",
        "\n",
        "Dokumentacja/User Guide: [https://scikit-learn.org/stable/user_guide.html](https://scikit-learn.org/stable/user_guide.html)\n",
        "\n",
        "Podstawowa biblioteka do uczenia maszynowego w języku Python.\n",
        "\n",
        "Aby zainstalować bibliotekę scikit-learn, użyj polecenia poniżej:\n",
        "```\n",
        "!pip install scikit-learn\n",
        "```\n",
        "Aby zaktualizować do najnowszej wersji bibliotekę scikit-learn, użyj polecenia poniżej:\n",
        "```\n",
        "!pip install --upgrade scikit-learn\n",
        "```\n",
        "Kurs stworzony w oparciu o wersję `0.22.1`\n",
        "\n",
        "### Spis treści:\n",
        "1. [Import bibliotek](#0)\n",
        "2. [Przygotowanie danych](#1)\n",
        "3. [Równanie normalne](#2)\n",
        "4. [Regresja liniowa przy pomocy scikit-learn](#3)\n",
        "\n",
        "\n"
      ],
      "metadata": {
        "id": "agQ5gxmdd98N"
      }
    },
    {
      "cell_type": "markdown",
      "source": [
        "### <a name='0'></a> Import bibliotek"
      ],
      "metadata": {
        "id": "NsQxRNJ6eFl0"
      }
    },
    {
      "cell_type": "code",
      "source": [
        "import numpy as np"
      ],
      "metadata": {
        "id": "0lFAN-lFeGL5"
      },
      "execution_count": 1,
      "outputs": []
    },
    {
      "cell_type": "markdown",
      "source": [
        "### <a name='1'></a> Przygotowanie danych"
      ],
      "metadata": {
        "id": "qswIqp3OeKya"
      }
    },
    {
      "cell_type": "code",
      "source": [
        "X1 = np.array([1, 2, 3, 4, 5, 6])\n",
        "Y = np.array([3000, 3250, 3500, 3750, 4000, 4250])\n",
        "m = len(X1)\n",
        "\n",
        "print(f'Lata pracy: {X1}')\n",
        "print(f'Wynagrodzenie: {Y}')\n",
        "print(f'Liczba próbek: {m}')"
      ],
      "metadata": {
        "colab": {
          "base_uri": "https://localhost:8080/"
        },
        "id": "9X04ya1EqyAR",
        "outputId": "59b5688d-2c75-422f-ff16-1aae3ed75544"
      },
      "execution_count": 3,
      "outputs": [
        {
          "output_type": "stream",
          "name": "stdout",
          "text": [
            "Lata pracy: [1 2 3 4 5 6]\n",
            "Wynagrodzenie: [3000 3250 3500 3750 4000 4250]\n",
            "Liczba próbek: 6\n"
          ]
        }
      ]
    },
    {
      "cell_type": "code",
      "source": [
        "X1 = X1.reshape(m, 1)\n",
        "print(X1)\n",
        "print(X1.shape)"
      ],
      "metadata": {
        "colab": {
          "base_uri": "https://localhost:8080/"
        },
        "id": "HumP9LlkrYp2",
        "outputId": "606864ad-86e4-4d83-f02f-2bceabe674a6"
      },
      "execution_count": 4,
      "outputs": [
        {
          "output_type": "stream",
          "name": "stdout",
          "text": [
            "[[1]\n",
            " [2]\n",
            " [3]\n",
            " [4]\n",
            " [5]\n",
            " [6]]\n",
            "(6, 1)\n"
          ]
        }
      ]
    },
    {
      "cell_type": "code",
      "source": [
        "bias = np.ones((m, 1))\n",
        "print(bias)\n",
        "print(bias.shape)"
      ],
      "metadata": {
        "colab": {
          "base_uri": "https://localhost:8080/"
        },
        "id": "4QY5BrYvsbJk",
        "outputId": "4be9bd2c-61a1-4e93-aad3-fd33abac72e8"
      },
      "execution_count": 5,
      "outputs": [
        {
          "output_type": "stream",
          "name": "stdout",
          "text": [
            "[[1.]\n",
            " [1.]\n",
            " [1.]\n",
            " [1.]\n",
            " [1.]\n",
            " [1.]]\n",
            "(6, 1)\n"
          ]
        }
      ]
    },
    {
      "cell_type": "code",
      "source": [
        "X = np.append(bias, X1, axis=1)\n",
        "print(X)\n",
        "print(X.shape)"
      ],
      "metadata": {
        "colab": {
          "base_uri": "https://localhost:8080/"
        },
        "id": "CLb9-A6msiyW",
        "outputId": "96c69342-af8b-4898-d717-35149bd6d8ff"
      },
      "execution_count": 6,
      "outputs": [
        {
          "output_type": "stream",
          "name": "stdout",
          "text": [
            "[[1. 1.]\n",
            " [1. 2.]\n",
            " [1. 3.]\n",
            " [1. 4.]\n",
            " [1. 5.]\n",
            " [1. 6.]]\n",
            "(6, 2)\n"
          ]
        }
      ]
    },
    {
      "cell_type": "markdown",
      "source": [
        "### <a name='2'></a> Równanie normalne\n",
        "\n",
        "Regresja liniowa w $R^2$:\n",
        "$$Y = w_0 + w_1X_1$$\n",
        "$$Y = W^TX$$\n",
        "gdzie: $$W= \\left[\\begin{matrix}w_0\\\\w_1\\end{matrix}\\right]$$ $$ X= \\left[\\begin{matrix}1\\\\X_1\\end{matrix}\\right] $$ stąd $$ W^T= \\left[\\begin{matrix}w_0&w_1\\end{matrix}\\right] $$    \n",
        "$$Y = W^TX = \\left[\\begin{matrix}w_0&w_1\\end{matrix}\\right] \\cdot  \\left[\\begin{matrix}1\\\\X_1\\end{matrix}\\right] = w_0 + w_1X_1$$\n",
        "\n",
        "Równanie normalne - równanie pozwalające obliczyć minimum funkcji straty (o ile istnieje)\n",
        "$$W = (X^TX)^{-1}(X^TY)$$"
      ],
      "metadata": {
        "id": "-QKYjxdjeOWN"
      }
    },
    {
      "cell_type": "code",
      "source": [
        "np.dot(X.T, X)"
      ],
      "metadata": {
        "colab": {
          "base_uri": "https://localhost:8080/"
        },
        "id": "Pzarh5rUs6fs",
        "outputId": "302045a9-0996-459f-b615-e91b9a7fd42e"
      },
      "execution_count": 7,
      "outputs": [
        {
          "output_type": "execute_result",
          "data": {
            "text/plain": [
              "array([[ 6., 21.],\n",
              "       [21., 91.]])"
            ]
          },
          "metadata": {},
          "execution_count": 7
        }
      ]
    },
    {
      "cell_type": "code",
      "source": [
        "L = np.linalg.inv(np.dot(X.T, X))\n",
        "L"
      ],
      "metadata": {
        "colab": {
          "base_uri": "https://localhost:8080/"
        },
        "id": "wkb5YUwGs-Ky",
        "outputId": "5108a599-8a69-415b-875c-b6b438ad5727"
      },
      "execution_count": 8,
      "outputs": [
        {
          "output_type": "execute_result",
          "data": {
            "text/plain": [
              "array([[ 0.86666667, -0.2       ],\n",
              "       [-0.2       ,  0.05714286]])"
            ]
          },
          "metadata": {},
          "execution_count": 8
        }
      ]
    },
    {
      "cell_type": "code",
      "source": [
        "P = np.dot(X.T,Y)\n",
        "P"
      ],
      "metadata": {
        "colab": {
          "base_uri": "https://localhost:8080/"
        },
        "id": "YEfVN5fatGBL",
        "outputId": "3a2d66a5-b36a-4fb1-faa7-c96290fb5902"
      },
      "execution_count": 9,
      "outputs": [
        {
          "output_type": "execute_result",
          "data": {
            "text/plain": [
              "array([21750., 80500.])"
            ]
          },
          "metadata": {},
          "execution_count": 9
        }
      ]
    },
    {
      "cell_type": "code",
      "source": [
        "np.dot(L,P)"
      ],
      "metadata": {
        "colab": {
          "base_uri": "https://localhost:8080/"
        },
        "id": "VxxS8mEPtJfj",
        "outputId": "08542eb6-60e5-410c-a928-28633c8701cb"
      },
      "execution_count": 10,
      "outputs": [
        {
          "output_type": "execute_result",
          "data": {
            "text/plain": [
              "array([2750.,  250.])"
            ]
          },
          "metadata": {},
          "execution_count": 10
        }
      ]
    },
    {
      "cell_type": "markdown",
      "source": [
        "Końcowa postać modelu$$Y = 2750 + 250X_1$$"
      ],
      "metadata": {
        "id": "ynlGov32eSx8"
      }
    },
    {
      "cell_type": "markdown",
      "source": [
        "### <a name='3'></a> Regresja liniowa przy pomocy scikit-learn"
      ],
      "metadata": {
        "id": "t8A-jPLUeVT2"
      }
    },
    {
      "cell_type": "code",
      "source": [
        "from sklearn.linear_model import LinearRegression\n",
        "\n",
        "regression = LinearRegression()\n",
        "regression.fit(X1, Y)\n",
        "\n",
        "print(regression.intercept_)\n",
        "print(regression.coef_[0])"
      ],
      "metadata": {
        "colab": {
          "base_uri": "https://localhost:8080/"
        },
        "id": "qeo8Fx81tPYu",
        "outputId": "edf6a583-05f2-4888-e19e-f9357f9af811"
      },
      "execution_count": 11,
      "outputs": [
        {
          "output_type": "stream",
          "name": "stdout",
          "text": [
            "2750.0\n",
            "250.0\n"
          ]
        }
      ]
    }
  ]
}