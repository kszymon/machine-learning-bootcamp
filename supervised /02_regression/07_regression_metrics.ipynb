{
  "nbformat": 4,
  "nbformat_minor": 0,
  "metadata": {
    "colab": {
      "provenance": [],
      "authorship_tag": "ABX9TyPPPHX3+y9wGOgcFhLLYj4R",
      "include_colab_link": true
    },
    "kernelspec": {
      "name": "python3",
      "display_name": "Python 3"
    },
    "language_info": {
      "name": "python"
    }
  },
  "cells": [
    {
      "cell_type": "markdown",
      "metadata": {
        "id": "view-in-github",
        "colab_type": "text"
      },
      "source": [
        "<a href=\"https://colab.research.google.com/github/kszymon/machine-learning-bootcamp/blob/main/supervised%20/02_regression/07_regression_metrics.ipynb\" target=\"_parent\"><img src=\"https://colab.research.google.com/assets/colab-badge.svg\" alt=\"Open In Colab\"/></a>"
      ]
    },
    {
      "cell_type": "markdown",
      "source": [
        "### scikit-learn\n",
        "Strona biblioteki: [https://scikit-learn.org](https://scikit-learn.org)  \n",
        "\n",
        "Dokumentacja/User Guide: [https://scikit-learn.org/stable/user_guide.html](https://scikit-learn.org/stable/user_guide.html)\n",
        "\n",
        "Podstawowa biblioteka do uczenia maszynowego w języku Python.\n",
        "\n",
        "Aby zainstalować bibliotekę scikit-learn, użyj polecenia poniżej:\n",
        "```\n",
        "!pip install scikit-learn\n",
        "```\n",
        "Aby zaktualizować do najnowszej wersji bibliotekę scikit-learn, użyj polecenia poniżej:\n",
        "```\n",
        "!pip install --upgrade scikit-learn\n",
        "```\n",
        "Kurs stworzony w oparciu o wersję `0.22.1`\n",
        "\n",
        "### Spis treści:\n",
        "1. [Import bibliotek](#a0)\n",
        "2. [Interpretacja graficzna](#a2)\n",
        "3. [Mean Absolute Error - MAE - Średni błąd bezwzględny](#a3)\n",
        "4. [Mean Squared Error - MSE - Błąd średniokwadratowy](#a4)\n",
        "5. [Root Mean Squared Error - RMSE - Pierwiastek błędu średniokwadratowego](#a5)\n",
        "6. [Max Error - Błąd maksymalny](#a6)\n",
        "7. [R2 score - współczynnik determinacji](#a7)\n",
        "\n"
      ],
      "metadata": {
        "id": "uPq-ZaWTvbg5"
      }
    },
    {
      "cell_type": "markdown",
      "source": [
        "### <a name='a0'></a>  Import bibliotek"
      ],
      "metadata": {
        "id": "Z75h0lL9vicv"
      }
    },
    {
      "cell_type": "code",
      "source": [
        "import numpy as np\n",
        "import pandas as pd\n",
        "import plotly.express as px\n",
        "import plotly.graph_objects as go\n",
        "\n",
        "np.random.seed(42)"
      ],
      "metadata": {
        "id": "r2HEx04EvmvS"
      },
      "execution_count": 7,
      "outputs": []
    },
    {
      "cell_type": "code",
      "source": [
        "y_true = 100 + 20 * np.random.randn(50)\n",
        "y_true"
      ],
      "metadata": {
        "colab": {
          "base_uri": "https://localhost:8080/"
        },
        "id": "Wr5Om6_Ov0t9",
        "outputId": "1b02a389-d73b-44dc-9c4c-a71cad115967"
      },
      "execution_count": 8,
      "outputs": [
        {
          "output_type": "execute_result",
          "data": {
            "text/plain": [
              "array([109.93428306,  97.23471398, 112.95377076, 130.46059713,\n",
              "        95.31693251,  95.31726086, 131.58425631, 115.34869458,\n",
              "        90.61051228, 110.85120087,  90.73164614,  90.68540493,\n",
              "       104.83924543,  61.73439511,  65.50164335,  88.75424942,\n",
              "        79.74337759, 106.28494665,  81.83951849,  71.75392597,\n",
              "       129.31297538,  95.48447399, 101.35056409,  71.50503628,\n",
              "        89.11234551, 102.21845179,  76.98012845, 107.51396037,\n",
              "        87.9872262 ,  94.166125  ,  87.96586776, 137.04556369,\n",
              "        99.73005551,  78.84578142, 116.45089824,  75.583127  ,\n",
              "       104.1772719 ,  60.80659752,  73.43627902, 103.93722472,\n",
              "       114.7693316 , 103.42736562,  97.68703435,  93.97792609,\n",
              "        70.42956019,  85.60311583,  90.78722458, 121.14244452,\n",
              "       106.87236579,  64.73919689])"
            ]
          },
          "metadata": {},
          "execution_count": 8
        }
      ]
    },
    {
      "cell_type": "code",
      "source": [
        "y_pred = y_true + 10 * np.random.randn(50)\n",
        "y_pred"
      ],
      "metadata": {
        "colab": {
          "base_uri": "https://localhost:8080/"
        },
        "id": "vbAiaT3kyZf7",
        "outputId": "936f0e74-75ac-4a19-db25-23b90949993e"
      },
      "execution_count": 9,
      "outputs": [
        {
          "output_type": "execute_result",
          "data": {
            "text/plain": [
              "array([113.17512275,  93.38389117, 106.18455076, 136.57736002,\n",
              "       105.62692773, 104.63006205, 123.19208108, 112.25657082,\n",
              "        93.9231466 , 120.60665214,  85.93990377,  88.82881516,\n",
              "        93.77589569,  49.77232887,  73.62690157, 102.3166497 ,\n",
              "        79.02327638, 116.32027563,  85.45587874,  65.30272843,\n",
              "       132.92693143, 110.86483965, 100.9923037 ,  87.15147283,\n",
              "        62.91489447, 110.43747684,  77.85059913, 104.52388686,\n",
              "        88.90483397,  74.29043586,  85.76914888, 140.61668941,\n",
              "       114.50899595,  73.66307924, 108.36596221,  70.56555656,\n",
              "       113.33129308,  64.09410862,  68.13867698, 109.06989905,\n",
              "       115.74010709, 113.11381553,  90.66650341,  90.70130462,\n",
              "        66.50847866,  70.96796635,  93.74842735, 123.75299725,\n",
              "       106.92350036,  62.39332556])"
            ]
          },
          "metadata": {},
          "execution_count": 9
        }
      ]
    },
    {
      "cell_type": "code",
      "source": [
        "results = pd.DataFrame({'y_true': y_true, 'y_pred': y_pred})\n",
        "results.head()"
      ],
      "metadata": {
        "colab": {
          "base_uri": "https://localhost:8080/",
          "height": 206
        },
        "id": "SHHLERyTymQ7",
        "outputId": "ef4688c5-3f7c-48fd-a548-df2695d88b42"
      },
      "execution_count": 10,
      "outputs": [
        {
          "output_type": "execute_result",
          "data": {
            "text/plain": [
              "       y_true      y_pred\n",
              "0  109.934283  113.175123\n",
              "1   97.234714   93.383891\n",
              "2  112.953771  106.184551\n",
              "3  130.460597  136.577360\n",
              "4   95.316933  105.626928"
            ],
            "text/html": [
              "\n",
              "  <div id=\"df-8765d8cc-87eb-4233-b6bb-45b94c3eff84\" class=\"colab-df-container\">\n",
              "    <div>\n",
              "<style scoped>\n",
              "    .dataframe tbody tr th:only-of-type {\n",
              "        vertical-align: middle;\n",
              "    }\n",
              "\n",
              "    .dataframe tbody tr th {\n",
              "        vertical-align: top;\n",
              "    }\n",
              "\n",
              "    .dataframe thead th {\n",
              "        text-align: right;\n",
              "    }\n",
              "</style>\n",
              "<table border=\"1\" class=\"dataframe\">\n",
              "  <thead>\n",
              "    <tr style=\"text-align: right;\">\n",
              "      <th></th>\n",
              "      <th>y_true</th>\n",
              "      <th>y_pred</th>\n",
              "    </tr>\n",
              "  </thead>\n",
              "  <tbody>\n",
              "    <tr>\n",
              "      <th>0</th>\n",
              "      <td>109.934283</td>\n",
              "      <td>113.175123</td>\n",
              "    </tr>\n",
              "    <tr>\n",
              "      <th>1</th>\n",
              "      <td>97.234714</td>\n",
              "      <td>93.383891</td>\n",
              "    </tr>\n",
              "    <tr>\n",
              "      <th>2</th>\n",
              "      <td>112.953771</td>\n",
              "      <td>106.184551</td>\n",
              "    </tr>\n",
              "    <tr>\n",
              "      <th>3</th>\n",
              "      <td>130.460597</td>\n",
              "      <td>136.577360</td>\n",
              "    </tr>\n",
              "    <tr>\n",
              "      <th>4</th>\n",
              "      <td>95.316933</td>\n",
              "      <td>105.626928</td>\n",
              "    </tr>\n",
              "  </tbody>\n",
              "</table>\n",
              "</div>\n",
              "    <div class=\"colab-df-buttons\">\n",
              "\n",
              "  <div class=\"colab-df-container\">\n",
              "    <button class=\"colab-df-convert\" onclick=\"convertToInteractive('df-8765d8cc-87eb-4233-b6bb-45b94c3eff84')\"\n",
              "            title=\"Convert this dataframe to an interactive table.\"\n",
              "            style=\"display:none;\">\n",
              "\n",
              "  <svg xmlns=\"http://www.w3.org/2000/svg\" height=\"24px\" viewBox=\"0 -960 960 960\">\n",
              "    <path d=\"M120-120v-720h720v720H120Zm60-500h600v-160H180v160Zm220 220h160v-160H400v160Zm0 220h160v-160H400v160ZM180-400h160v-160H180v160Zm440 0h160v-160H620v160ZM180-180h160v-160H180v160Zm440 0h160v-160H620v160Z\"/>\n",
              "  </svg>\n",
              "    </button>\n",
              "\n",
              "  <style>\n",
              "    .colab-df-container {\n",
              "      display:flex;\n",
              "      gap: 12px;\n",
              "    }\n",
              "\n",
              "    .colab-df-convert {\n",
              "      background-color: #E8F0FE;\n",
              "      border: none;\n",
              "      border-radius: 50%;\n",
              "      cursor: pointer;\n",
              "      display: none;\n",
              "      fill: #1967D2;\n",
              "      height: 32px;\n",
              "      padding: 0 0 0 0;\n",
              "      width: 32px;\n",
              "    }\n",
              "\n",
              "    .colab-df-convert:hover {\n",
              "      background-color: #E2EBFA;\n",
              "      box-shadow: 0px 1px 2px rgba(60, 64, 67, 0.3), 0px 1px 3px 1px rgba(60, 64, 67, 0.15);\n",
              "      fill: #174EA6;\n",
              "    }\n",
              "\n",
              "    .colab-df-buttons div {\n",
              "      margin-bottom: 4px;\n",
              "    }\n",
              "\n",
              "    [theme=dark] .colab-df-convert {\n",
              "      background-color: #3B4455;\n",
              "      fill: #D2E3FC;\n",
              "    }\n",
              "\n",
              "    [theme=dark] .colab-df-convert:hover {\n",
              "      background-color: #434B5C;\n",
              "      box-shadow: 0px 1px 3px 1px rgba(0, 0, 0, 0.15);\n",
              "      filter: drop-shadow(0px 1px 2px rgba(0, 0, 0, 0.3));\n",
              "      fill: #FFFFFF;\n",
              "    }\n",
              "  </style>\n",
              "\n",
              "    <script>\n",
              "      const buttonEl =\n",
              "        document.querySelector('#df-8765d8cc-87eb-4233-b6bb-45b94c3eff84 button.colab-df-convert');\n",
              "      buttonEl.style.display =\n",
              "        google.colab.kernel.accessAllowed ? 'block' : 'none';\n",
              "\n",
              "      async function convertToInteractive(key) {\n",
              "        const element = document.querySelector('#df-8765d8cc-87eb-4233-b6bb-45b94c3eff84');\n",
              "        const dataTable =\n",
              "          await google.colab.kernel.invokeFunction('convertToInteractive',\n",
              "                                                    [key], {});\n",
              "        if (!dataTable) return;\n",
              "\n",
              "        const docLinkHtml = 'Like what you see? Visit the ' +\n",
              "          '<a target=\"_blank\" href=https://colab.research.google.com/notebooks/data_table.ipynb>data table notebook</a>'\n",
              "          + ' to learn more about interactive tables.';\n",
              "        element.innerHTML = '';\n",
              "        dataTable['output_type'] = 'display_data';\n",
              "        await google.colab.output.renderOutput(dataTable, element);\n",
              "        const docLink = document.createElement('div');\n",
              "        docLink.innerHTML = docLinkHtml;\n",
              "        element.appendChild(docLink);\n",
              "      }\n",
              "    </script>\n",
              "  </div>\n",
              "\n",
              "\n",
              "<div id=\"df-916e9046-6f01-4fe6-b18e-e08269550bdc\">\n",
              "  <button class=\"colab-df-quickchart\" onclick=\"quickchart('df-916e9046-6f01-4fe6-b18e-e08269550bdc')\"\n",
              "            title=\"Suggest charts\"\n",
              "            style=\"display:none;\">\n",
              "\n",
              "<svg xmlns=\"http://www.w3.org/2000/svg\" height=\"24px\"viewBox=\"0 0 24 24\"\n",
              "     width=\"24px\">\n",
              "    <g>\n",
              "        <path d=\"M19 3H5c-1.1 0-2 .9-2 2v14c0 1.1.9 2 2 2h14c1.1 0 2-.9 2-2V5c0-1.1-.9-2-2-2zM9 17H7v-7h2v7zm4 0h-2V7h2v10zm4 0h-2v-4h2v4z\"/>\n",
              "    </g>\n",
              "</svg>\n",
              "  </button>\n",
              "\n",
              "<style>\n",
              "  .colab-df-quickchart {\n",
              "      --bg-color: #E8F0FE;\n",
              "      --fill-color: #1967D2;\n",
              "      --hover-bg-color: #E2EBFA;\n",
              "      --hover-fill-color: #174EA6;\n",
              "      --disabled-fill-color: #AAA;\n",
              "      --disabled-bg-color: #DDD;\n",
              "  }\n",
              "\n",
              "  [theme=dark] .colab-df-quickchart {\n",
              "      --bg-color: #3B4455;\n",
              "      --fill-color: #D2E3FC;\n",
              "      --hover-bg-color: #434B5C;\n",
              "      --hover-fill-color: #FFFFFF;\n",
              "      --disabled-bg-color: #3B4455;\n",
              "      --disabled-fill-color: #666;\n",
              "  }\n",
              "\n",
              "  .colab-df-quickchart {\n",
              "    background-color: var(--bg-color);\n",
              "    border: none;\n",
              "    border-radius: 50%;\n",
              "    cursor: pointer;\n",
              "    display: none;\n",
              "    fill: var(--fill-color);\n",
              "    height: 32px;\n",
              "    padding: 0;\n",
              "    width: 32px;\n",
              "  }\n",
              "\n",
              "  .colab-df-quickchart:hover {\n",
              "    background-color: var(--hover-bg-color);\n",
              "    box-shadow: 0 1px 2px rgba(60, 64, 67, 0.3), 0 1px 3px 1px rgba(60, 64, 67, 0.15);\n",
              "    fill: var(--button-hover-fill-color);\n",
              "  }\n",
              "\n",
              "  .colab-df-quickchart-complete:disabled,\n",
              "  .colab-df-quickchart-complete:disabled:hover {\n",
              "    background-color: var(--disabled-bg-color);\n",
              "    fill: var(--disabled-fill-color);\n",
              "    box-shadow: none;\n",
              "  }\n",
              "\n",
              "  .colab-df-spinner {\n",
              "    border: 2px solid var(--fill-color);\n",
              "    border-color: transparent;\n",
              "    border-bottom-color: var(--fill-color);\n",
              "    animation:\n",
              "      spin 1s steps(1) infinite;\n",
              "  }\n",
              "\n",
              "  @keyframes spin {\n",
              "    0% {\n",
              "      border-color: transparent;\n",
              "      border-bottom-color: var(--fill-color);\n",
              "      border-left-color: var(--fill-color);\n",
              "    }\n",
              "    20% {\n",
              "      border-color: transparent;\n",
              "      border-left-color: var(--fill-color);\n",
              "      border-top-color: var(--fill-color);\n",
              "    }\n",
              "    30% {\n",
              "      border-color: transparent;\n",
              "      border-left-color: var(--fill-color);\n",
              "      border-top-color: var(--fill-color);\n",
              "      border-right-color: var(--fill-color);\n",
              "    }\n",
              "    40% {\n",
              "      border-color: transparent;\n",
              "      border-right-color: var(--fill-color);\n",
              "      border-top-color: var(--fill-color);\n",
              "    }\n",
              "    60% {\n",
              "      border-color: transparent;\n",
              "      border-right-color: var(--fill-color);\n",
              "    }\n",
              "    80% {\n",
              "      border-color: transparent;\n",
              "      border-right-color: var(--fill-color);\n",
              "      border-bottom-color: var(--fill-color);\n",
              "    }\n",
              "    90% {\n",
              "      border-color: transparent;\n",
              "      border-bottom-color: var(--fill-color);\n",
              "    }\n",
              "  }\n",
              "</style>\n",
              "\n",
              "  <script>\n",
              "    async function quickchart(key) {\n",
              "      const quickchartButtonEl =\n",
              "        document.querySelector('#' + key + ' button');\n",
              "      quickchartButtonEl.disabled = true;  // To prevent multiple clicks.\n",
              "      quickchartButtonEl.classList.add('colab-df-spinner');\n",
              "      try {\n",
              "        const charts = await google.colab.kernel.invokeFunction(\n",
              "            'suggestCharts', [key], {});\n",
              "      } catch (error) {\n",
              "        console.error('Error during call to suggestCharts:', error);\n",
              "      }\n",
              "      quickchartButtonEl.classList.remove('colab-df-spinner');\n",
              "      quickchartButtonEl.classList.add('colab-df-quickchart-complete');\n",
              "    }\n",
              "    (() => {\n",
              "      let quickchartButtonEl =\n",
              "        document.querySelector('#df-916e9046-6f01-4fe6-b18e-e08269550bdc button');\n",
              "      quickchartButtonEl.style.display =\n",
              "        google.colab.kernel.accessAllowed ? 'block' : 'none';\n",
              "    })();\n",
              "  </script>\n",
              "</div>\n",
              "\n",
              "    </div>\n",
              "  </div>\n"
            ],
            "application/vnd.google.colaboratory.intrinsic+json": {
              "type": "dataframe",
              "variable_name": "results",
              "summary": "{\n  \"name\": \"results\",\n  \"rows\": 50,\n  \"fields\": [\n    {\n      \"column\": \"y_true\",\n      \"properties\": {\n        \"dtype\": \"number\",\n        \"std\": 18.673375637662232,\n        \"min\": 60.80659752240449,\n        \"max\": 137.04556369017877,\n        \"num_unique_values\": 50,\n        \"samples\": [\n          61.73439510684404,\n          103.93722471738246,\n          87.96586775541206\n        ],\n        \"semantic_type\": \"\",\n        \"description\": \"\"\n      }\n    },\n    {\n      \"column\": \"y_pred\",\n      \"properties\": {\n        \"dtype\": \"number\",\n        \"std\": 21.47280451902935,\n        \"min\": 49.772328866037334,\n        \"max\": 140.61668940529623,\n        \"num_unique_values\": 50,\n        \"samples\": [\n          49.772328866037334,\n          109.06989904851602,\n          85.76914887703694\n        ],\n        \"semantic_type\": \"\",\n        \"description\": \"\"\n      }\n    }\n  ]\n}"
            }
          },
          "metadata": {},
          "execution_count": 10
        }
      ]
    },
    {
      "cell_type": "code",
      "source": [
        "results['error'] = results['y_true'] - results['y_pred']\n",
        "results['error_squared'] = results['error'] **2\n",
        "results.head()"
      ],
      "metadata": {
        "colab": {
          "base_uri": "https://localhost:8080/",
          "height": 206
        },
        "id": "b6gDANMNy8U2",
        "outputId": "98ae936c-7850-4717-afea-2eafd2dd494f"
      },
      "execution_count": 11,
      "outputs": [
        {
          "output_type": "execute_result",
          "data": {
            "text/plain": [
              "       y_true      y_pred      error  error_squared\n",
              "0  109.934283  113.175123  -3.240840      10.503042\n",
              "1   97.234714   93.383891   3.850823      14.828836\n",
              "2  112.953771  106.184551   6.769220      45.822339\n",
              "3  130.460597  136.577360  -6.116763      37.414788\n",
              "4   95.316933  105.626928 -10.309995     106.296002"
            ],
            "text/html": [
              "\n",
              "  <div id=\"df-a72590fc-d38d-45a3-9404-edcfbcd2a837\" class=\"colab-df-container\">\n",
              "    <div>\n",
              "<style scoped>\n",
              "    .dataframe tbody tr th:only-of-type {\n",
              "        vertical-align: middle;\n",
              "    }\n",
              "\n",
              "    .dataframe tbody tr th {\n",
              "        vertical-align: top;\n",
              "    }\n",
              "\n",
              "    .dataframe thead th {\n",
              "        text-align: right;\n",
              "    }\n",
              "</style>\n",
              "<table border=\"1\" class=\"dataframe\">\n",
              "  <thead>\n",
              "    <tr style=\"text-align: right;\">\n",
              "      <th></th>\n",
              "      <th>y_true</th>\n",
              "      <th>y_pred</th>\n",
              "      <th>error</th>\n",
              "      <th>error_squared</th>\n",
              "    </tr>\n",
              "  </thead>\n",
              "  <tbody>\n",
              "    <tr>\n",
              "      <th>0</th>\n",
              "      <td>109.934283</td>\n",
              "      <td>113.175123</td>\n",
              "      <td>-3.240840</td>\n",
              "      <td>10.503042</td>\n",
              "    </tr>\n",
              "    <tr>\n",
              "      <th>1</th>\n",
              "      <td>97.234714</td>\n",
              "      <td>93.383891</td>\n",
              "      <td>3.850823</td>\n",
              "      <td>14.828836</td>\n",
              "    </tr>\n",
              "    <tr>\n",
              "      <th>2</th>\n",
              "      <td>112.953771</td>\n",
              "      <td>106.184551</td>\n",
              "      <td>6.769220</td>\n",
              "      <td>45.822339</td>\n",
              "    </tr>\n",
              "    <tr>\n",
              "      <th>3</th>\n",
              "      <td>130.460597</td>\n",
              "      <td>136.577360</td>\n",
              "      <td>-6.116763</td>\n",
              "      <td>37.414788</td>\n",
              "    </tr>\n",
              "    <tr>\n",
              "      <th>4</th>\n",
              "      <td>95.316933</td>\n",
              "      <td>105.626928</td>\n",
              "      <td>-10.309995</td>\n",
              "      <td>106.296002</td>\n",
              "    </tr>\n",
              "  </tbody>\n",
              "</table>\n",
              "</div>\n",
              "    <div class=\"colab-df-buttons\">\n",
              "\n",
              "  <div class=\"colab-df-container\">\n",
              "    <button class=\"colab-df-convert\" onclick=\"convertToInteractive('df-a72590fc-d38d-45a3-9404-edcfbcd2a837')\"\n",
              "            title=\"Convert this dataframe to an interactive table.\"\n",
              "            style=\"display:none;\">\n",
              "\n",
              "  <svg xmlns=\"http://www.w3.org/2000/svg\" height=\"24px\" viewBox=\"0 -960 960 960\">\n",
              "    <path d=\"M120-120v-720h720v720H120Zm60-500h600v-160H180v160Zm220 220h160v-160H400v160Zm0 220h160v-160H400v160ZM180-400h160v-160H180v160Zm440 0h160v-160H620v160ZM180-180h160v-160H180v160Zm440 0h160v-160H620v160Z\"/>\n",
              "  </svg>\n",
              "    </button>\n",
              "\n",
              "  <style>\n",
              "    .colab-df-container {\n",
              "      display:flex;\n",
              "      gap: 12px;\n",
              "    }\n",
              "\n",
              "    .colab-df-convert {\n",
              "      background-color: #E8F0FE;\n",
              "      border: none;\n",
              "      border-radius: 50%;\n",
              "      cursor: pointer;\n",
              "      display: none;\n",
              "      fill: #1967D2;\n",
              "      height: 32px;\n",
              "      padding: 0 0 0 0;\n",
              "      width: 32px;\n",
              "    }\n",
              "\n",
              "    .colab-df-convert:hover {\n",
              "      background-color: #E2EBFA;\n",
              "      box-shadow: 0px 1px 2px rgba(60, 64, 67, 0.3), 0px 1px 3px 1px rgba(60, 64, 67, 0.15);\n",
              "      fill: #174EA6;\n",
              "    }\n",
              "\n",
              "    .colab-df-buttons div {\n",
              "      margin-bottom: 4px;\n",
              "    }\n",
              "\n",
              "    [theme=dark] .colab-df-convert {\n",
              "      background-color: #3B4455;\n",
              "      fill: #D2E3FC;\n",
              "    }\n",
              "\n",
              "    [theme=dark] .colab-df-convert:hover {\n",
              "      background-color: #434B5C;\n",
              "      box-shadow: 0px 1px 3px 1px rgba(0, 0, 0, 0.15);\n",
              "      filter: drop-shadow(0px 1px 2px rgba(0, 0, 0, 0.3));\n",
              "      fill: #FFFFFF;\n",
              "    }\n",
              "  </style>\n",
              "\n",
              "    <script>\n",
              "      const buttonEl =\n",
              "        document.querySelector('#df-a72590fc-d38d-45a3-9404-edcfbcd2a837 button.colab-df-convert');\n",
              "      buttonEl.style.display =\n",
              "        google.colab.kernel.accessAllowed ? 'block' : 'none';\n",
              "\n",
              "      async function convertToInteractive(key) {\n",
              "        const element = document.querySelector('#df-a72590fc-d38d-45a3-9404-edcfbcd2a837');\n",
              "        const dataTable =\n",
              "          await google.colab.kernel.invokeFunction('convertToInteractive',\n",
              "                                                    [key], {});\n",
              "        if (!dataTable) return;\n",
              "\n",
              "        const docLinkHtml = 'Like what you see? Visit the ' +\n",
              "          '<a target=\"_blank\" href=https://colab.research.google.com/notebooks/data_table.ipynb>data table notebook</a>'\n",
              "          + ' to learn more about interactive tables.';\n",
              "        element.innerHTML = '';\n",
              "        dataTable['output_type'] = 'display_data';\n",
              "        await google.colab.output.renderOutput(dataTable, element);\n",
              "        const docLink = document.createElement('div');\n",
              "        docLink.innerHTML = docLinkHtml;\n",
              "        element.appendChild(docLink);\n",
              "      }\n",
              "    </script>\n",
              "  </div>\n",
              "\n",
              "\n",
              "<div id=\"df-6c9a87e5-e793-482a-acdc-fd29284fe104\">\n",
              "  <button class=\"colab-df-quickchart\" onclick=\"quickchart('df-6c9a87e5-e793-482a-acdc-fd29284fe104')\"\n",
              "            title=\"Suggest charts\"\n",
              "            style=\"display:none;\">\n",
              "\n",
              "<svg xmlns=\"http://www.w3.org/2000/svg\" height=\"24px\"viewBox=\"0 0 24 24\"\n",
              "     width=\"24px\">\n",
              "    <g>\n",
              "        <path d=\"M19 3H5c-1.1 0-2 .9-2 2v14c0 1.1.9 2 2 2h14c1.1 0 2-.9 2-2V5c0-1.1-.9-2-2-2zM9 17H7v-7h2v7zm4 0h-2V7h2v10zm4 0h-2v-4h2v4z\"/>\n",
              "    </g>\n",
              "</svg>\n",
              "  </button>\n",
              "\n",
              "<style>\n",
              "  .colab-df-quickchart {\n",
              "      --bg-color: #E8F0FE;\n",
              "      --fill-color: #1967D2;\n",
              "      --hover-bg-color: #E2EBFA;\n",
              "      --hover-fill-color: #174EA6;\n",
              "      --disabled-fill-color: #AAA;\n",
              "      --disabled-bg-color: #DDD;\n",
              "  }\n",
              "\n",
              "  [theme=dark] .colab-df-quickchart {\n",
              "      --bg-color: #3B4455;\n",
              "      --fill-color: #D2E3FC;\n",
              "      --hover-bg-color: #434B5C;\n",
              "      --hover-fill-color: #FFFFFF;\n",
              "      --disabled-bg-color: #3B4455;\n",
              "      --disabled-fill-color: #666;\n",
              "  }\n",
              "\n",
              "  .colab-df-quickchart {\n",
              "    background-color: var(--bg-color);\n",
              "    border: none;\n",
              "    border-radius: 50%;\n",
              "    cursor: pointer;\n",
              "    display: none;\n",
              "    fill: var(--fill-color);\n",
              "    height: 32px;\n",
              "    padding: 0;\n",
              "    width: 32px;\n",
              "  }\n",
              "\n",
              "  .colab-df-quickchart:hover {\n",
              "    background-color: var(--hover-bg-color);\n",
              "    box-shadow: 0 1px 2px rgba(60, 64, 67, 0.3), 0 1px 3px 1px rgba(60, 64, 67, 0.15);\n",
              "    fill: var(--button-hover-fill-color);\n",
              "  }\n",
              "\n",
              "  .colab-df-quickchart-complete:disabled,\n",
              "  .colab-df-quickchart-complete:disabled:hover {\n",
              "    background-color: var(--disabled-bg-color);\n",
              "    fill: var(--disabled-fill-color);\n",
              "    box-shadow: none;\n",
              "  }\n",
              "\n",
              "  .colab-df-spinner {\n",
              "    border: 2px solid var(--fill-color);\n",
              "    border-color: transparent;\n",
              "    border-bottom-color: var(--fill-color);\n",
              "    animation:\n",
              "      spin 1s steps(1) infinite;\n",
              "  }\n",
              "\n",
              "  @keyframes spin {\n",
              "    0% {\n",
              "      border-color: transparent;\n",
              "      border-bottom-color: var(--fill-color);\n",
              "      border-left-color: var(--fill-color);\n",
              "    }\n",
              "    20% {\n",
              "      border-color: transparent;\n",
              "      border-left-color: var(--fill-color);\n",
              "      border-top-color: var(--fill-color);\n",
              "    }\n",
              "    30% {\n",
              "      border-color: transparent;\n",
              "      border-left-color: var(--fill-color);\n",
              "      border-top-color: var(--fill-color);\n",
              "      border-right-color: var(--fill-color);\n",
              "    }\n",
              "    40% {\n",
              "      border-color: transparent;\n",
              "      border-right-color: var(--fill-color);\n",
              "      border-top-color: var(--fill-color);\n",
              "    }\n",
              "    60% {\n",
              "      border-color: transparent;\n",
              "      border-right-color: var(--fill-color);\n",
              "    }\n",
              "    80% {\n",
              "      border-color: transparent;\n",
              "      border-right-color: var(--fill-color);\n",
              "      border-bottom-color: var(--fill-color);\n",
              "    }\n",
              "    90% {\n",
              "      border-color: transparent;\n",
              "      border-bottom-color: var(--fill-color);\n",
              "    }\n",
              "  }\n",
              "</style>\n",
              "\n",
              "  <script>\n",
              "    async function quickchart(key) {\n",
              "      const quickchartButtonEl =\n",
              "        document.querySelector('#' + key + ' button');\n",
              "      quickchartButtonEl.disabled = true;  // To prevent multiple clicks.\n",
              "      quickchartButtonEl.classList.add('colab-df-spinner');\n",
              "      try {\n",
              "        const charts = await google.colab.kernel.invokeFunction(\n",
              "            'suggestCharts', [key], {});\n",
              "      } catch (error) {\n",
              "        console.error('Error during call to suggestCharts:', error);\n",
              "      }\n",
              "      quickchartButtonEl.classList.remove('colab-df-spinner');\n",
              "      quickchartButtonEl.classList.add('colab-df-quickchart-complete');\n",
              "    }\n",
              "    (() => {\n",
              "      let quickchartButtonEl =\n",
              "        document.querySelector('#df-6c9a87e5-e793-482a-acdc-fd29284fe104 button');\n",
              "      quickchartButtonEl.style.display =\n",
              "        google.colab.kernel.accessAllowed ? 'block' : 'none';\n",
              "    })();\n",
              "  </script>\n",
              "</div>\n",
              "\n",
              "    </div>\n",
              "  </div>\n"
            ],
            "application/vnd.google.colaboratory.intrinsic+json": {
              "type": "dataframe",
              "variable_name": "results",
              "summary": "{\n  \"name\": \"results\",\n  \"rows\": 50,\n  \"fields\": [\n    {\n      \"column\": \"y_true\",\n      \"properties\": {\n        \"dtype\": \"number\",\n        \"std\": 18.673375637662232,\n        \"min\": 60.80659752240449,\n        \"max\": 137.04556369017877,\n        \"num_unique_values\": 50,\n        \"samples\": [\n          61.73439510684404,\n          103.93722471738246,\n          87.96586775541206\n        ],\n        \"semantic_type\": \"\",\n        \"description\": \"\"\n      }\n    },\n    {\n      \"column\": \"y_pred\",\n      \"properties\": {\n        \"dtype\": \"number\",\n        \"std\": 21.47280451902935,\n        \"min\": 49.772328866037334,\n        \"max\": 140.61668940529623,\n        \"num_unique_values\": 50,\n        \"samples\": [\n          49.772328866037334,\n          109.06989904851602,\n          85.76914887703694\n        ],\n        \"semantic_type\": \"\",\n        \"description\": \"\"\n      }\n    },\n    {\n      \"column\": \"error\",\n      \"properties\": {\n        \"dtype\": \"number\",\n        \"std\": 8.743249874778595,\n        \"min\": -15.646436558140067,\n        \"max\": 26.197451040897448,\n        \"num_unique_values\": 50,\n        \"samples\": [\n          11.962066240806706,\n          -5.132674331133558,\n          2.1967188783751226\n        ],\n        \"semantic_type\": \"\",\n        \"description\": \"\"\n      }\n    },\n    {\n      \"column\": \"error_squared\",\n      \"properties\": {\n        \"dtype\": \"number\",\n        \"std\": 120.35625893866214,\n        \"min\": 0.002614743883432637,\n        \"max\": 686.3064410402188,\n        \"num_unique_values\": 50,\n        \"samples\": [\n          143.09102874944747,\n          26.344345789477313,\n          4.825573830609657\n        ],\n        \"semantic_type\": \"\",\n        \"description\": \"\"\n      }\n    }\n  ]\n}"
            }
          },
          "metadata": {},
          "execution_count": 11
        }
      ]
    },
    {
      "cell_type": "code",
      "source": [
        "print(f\"MAE - mean absolute error: {results['error'].abs().sum() / len(results):.4f}\")\n",
        "\n",
        "print(f\"MSE - mean squared error: {results['error_squared'].sum() / len(results):.4f}\")\n",
        "\n",
        "print(f\"RMSE - root mean squared error: {np.sqrt(results['error_squared'].sum() / len(results)):.4f}\")"
      ],
      "metadata": {
        "colab": {
          "base_uri": "https://localhost:8080/"
        },
        "id": "QdyedZMl26gr",
        "outputId": "a7ef042a-5b3a-460b-f1e2-0f80cfefdda3"
      },
      "execution_count": 13,
      "outputs": [
        {
          "output_type": "stream",
          "name": "stdout",
          "text": [
            "MAE - mean absolute error: 6.7918\n",
            "MSE - mean squared error: 74.9471\n",
            "RMSE - root mean squared error: 8.6572\n"
          ]
        }
      ]
    },
    {
      "cell_type": "markdown",
      "source": [
        "### <a name='a2'></a> Interpretacja graficzna"
      ],
      "metadata": {
        "id": "Nyd0f7FWwA-d"
      }
    },
    {
      "cell_type": "code",
      "source": [
        "def plot_regression_results(y_true, y_pred):\n",
        "\n",
        "    results = pd.DataFrame({'y_true': y_true, 'y_pred': y_pred})\n",
        "    min = results[['y_true', 'y_pred']].min().min()\n",
        "    max = results[['y_true', 'y_pred']].max().max()\n",
        "\n",
        "    fig = go.Figure(data=[go.Scatter(x=results['y_true'], y=results['y_pred'], mode='markers'),\n",
        "                    go.Scatter(x=[min, max], y=[min, max])],\n",
        "                    layout=go.Layout(showlegend=False, width=800,\n",
        "                                     xaxis_title='y_true',\n",
        "                                     yaxis_title='y_pred',\n",
        "                                     title='Regresja: y_true vs. y_pred'))\n",
        "    fig.show()\n",
        "\n",
        "plot_regression_results(y_true, y_pred)"
      ],
      "metadata": {
        "colab": {
          "base_uri": "https://localhost:8080/",
          "height": 542
        },
        "id": "3Vw9RllB4rqf",
        "outputId": "16ba8cc9-7204-4a36-9ca2-029d10ec9505"
      },
      "execution_count": 20,
      "outputs": [
        {
          "output_type": "display_data",
          "data": {
            "text/html": [
              "<html>\n",
              "<head><meta charset=\"utf-8\" /></head>\n",
              "<body>\n",
              "    <div>            <script src=\"https://cdnjs.cloudflare.com/ajax/libs/mathjax/2.7.5/MathJax.js?config=TeX-AMS-MML_SVG\"></script><script type=\"text/javascript\">if (window.MathJax && window.MathJax.Hub && window.MathJax.Hub.Config) {window.MathJax.Hub.Config({SVG: {font: \"STIX-Web\"}});}</script>                <script type=\"text/javascript\">window.PlotlyConfig = {MathJaxConfig: 'local'};</script>\n",
              "        <script charset=\"utf-8\" src=\"https://cdn.plot.ly/plotly-2.35.2.min.js\"></script>                <div id=\"3590f1d1-7e57-45f6-b7b4-3d1e29b448fb\" class=\"plotly-graph-div\" style=\"height:525px; width:800px;\"></div>            <script type=\"text/javascript\">                                    window.PLOTLYENV=window.PLOTLYENV || {};                                    if (document.getElementById(\"3590f1d1-7e57-45f6-b7b4-3d1e29b448fb\")) {                    Plotly.newPlot(                        \"3590f1d1-7e57-45f6-b7b4-3d1e29b448fb\",                        [{\"mode\":\"markers\",\"x\":[109.93428306022466,97.2347139765763,112.95377076201385,130.46059712816052,95.31693250553329,95.3172608610164,131.58425631014782,115.34869458305818,90.61051228130096,110.8512008717193,90.73164614375075,90.68540492859486,104.83924543132068,61.73439510684404,65.50164334973934,88.75424941518054,79.74337759331152,106.28494665190547,81.83951848957578,71.75392597329417,129.31297537843108,95.4844739902693,101.35056409375848,71.50503627573087,89.11234550949635,102.21845179419732,76.98012845155395,107.51396036691344,87.9872262016239,94.16612500413447,87.96586775541206,137.04556369017877,99.73005550524132,78.84578142088199,116.45089824206377,75.58312700057955,104.1772719000951,60.80659752240449,73.43627902203139,103.93722471738246,114.76933159990821,103.4273656237994,97.68703435223519,93.97792608821422,70.42956019265145,85.60311583210583,90.78722458080425,121.1424445243783,106.87236579136923,64.73919689274533],\"y\":[113.1751227541726,93.38389117241314,106.18455075895426,136.5773600165692,105.6269277304928,104.63006205217837,123.19208107792144,112.25657082454603,93.92314659533659,120.60665214294289,85.93990376529786,88.8288151619567,93.77589569126039,49.772328866037334,73.62690157368132,102.31664970088877,79.02327637750818,116.3202756308257,85.45587874005213,65.30272842724293,132.92693143351522,110.86483965492899,100.99230370265896,87.15147283387094,62.9148944685989,110.43747683794956,77.85059913393566,104.52388686225476,88.90483396697893,74.29043585812555,85.76914887703694,140.61668940529623,114.50899595265649,73.66307923814551,108.3659622131319,70.56555656473418,113.33129307711584,64.09410861900133,68.138676984361,109.06989904851602,115.74010709338862,113.11381552912829,90.66650341346167,90.70130462223653,66.50847866132987,70.96796635078465,93.74842735145,123.7529972461772,106.92350035779384,62.39332555899386],\"type\":\"scatter\"},{\"x\":[49.772328866037334,140.61668940529623],\"y\":[49.772328866037334,140.61668940529623],\"type\":\"scatter\"}],                        {\"showlegend\":false,\"title\":{\"text\":\"Regresja: y_true vs. y_pred\"},\"width\":800,\"xaxis\":{\"title\":{\"text\":\"y_true\"}},\"yaxis\":{\"title\":{\"text\":\"y_pred\"}},\"template\":{\"data\":{\"histogram2dcontour\":[{\"type\":\"histogram2dcontour\",\"colorbar\":{\"outlinewidth\":0,\"ticks\":\"\"},\"colorscale\":[[0.0,\"#0d0887\"],[0.1111111111111111,\"#46039f\"],[0.2222222222222222,\"#7201a8\"],[0.3333333333333333,\"#9c179e\"],[0.4444444444444444,\"#bd3786\"],[0.5555555555555556,\"#d8576b\"],[0.6666666666666666,\"#ed7953\"],[0.7777777777777778,\"#fb9f3a\"],[0.8888888888888888,\"#fdca26\"],[1.0,\"#f0f921\"]]}],\"choropleth\":[{\"type\":\"choropleth\",\"colorbar\":{\"outlinewidth\":0,\"ticks\":\"\"}}],\"histogram2d\":[{\"type\":\"histogram2d\",\"colorbar\":{\"outlinewidth\":0,\"ticks\":\"\"},\"colorscale\":[[0.0,\"#0d0887\"],[0.1111111111111111,\"#46039f\"],[0.2222222222222222,\"#7201a8\"],[0.3333333333333333,\"#9c179e\"],[0.4444444444444444,\"#bd3786\"],[0.5555555555555556,\"#d8576b\"],[0.6666666666666666,\"#ed7953\"],[0.7777777777777778,\"#fb9f3a\"],[0.8888888888888888,\"#fdca26\"],[1.0,\"#f0f921\"]]}],\"heatmap\":[{\"type\":\"heatmap\",\"colorbar\":{\"outlinewidth\":0,\"ticks\":\"\"},\"colorscale\":[[0.0,\"#0d0887\"],[0.1111111111111111,\"#46039f\"],[0.2222222222222222,\"#7201a8\"],[0.3333333333333333,\"#9c179e\"],[0.4444444444444444,\"#bd3786\"],[0.5555555555555556,\"#d8576b\"],[0.6666666666666666,\"#ed7953\"],[0.7777777777777778,\"#fb9f3a\"],[0.8888888888888888,\"#fdca26\"],[1.0,\"#f0f921\"]]}],\"heatmapgl\":[{\"type\":\"heatmapgl\",\"colorbar\":{\"outlinewidth\":0,\"ticks\":\"\"},\"colorscale\":[[0.0,\"#0d0887\"],[0.1111111111111111,\"#46039f\"],[0.2222222222222222,\"#7201a8\"],[0.3333333333333333,\"#9c179e\"],[0.4444444444444444,\"#bd3786\"],[0.5555555555555556,\"#d8576b\"],[0.6666666666666666,\"#ed7953\"],[0.7777777777777778,\"#fb9f3a\"],[0.8888888888888888,\"#fdca26\"],[1.0,\"#f0f921\"]]}],\"contourcarpet\":[{\"type\":\"contourcarpet\",\"colorbar\":{\"outlinewidth\":0,\"ticks\":\"\"}}],\"contour\":[{\"type\":\"contour\",\"colorbar\":{\"outlinewidth\":0,\"ticks\":\"\"},\"colorscale\":[[0.0,\"#0d0887\"],[0.1111111111111111,\"#46039f\"],[0.2222222222222222,\"#7201a8\"],[0.3333333333333333,\"#9c179e\"],[0.4444444444444444,\"#bd3786\"],[0.5555555555555556,\"#d8576b\"],[0.6666666666666666,\"#ed7953\"],[0.7777777777777778,\"#fb9f3a\"],[0.8888888888888888,\"#fdca26\"],[1.0,\"#f0f921\"]]}],\"surface\":[{\"type\":\"surface\",\"colorbar\":{\"outlinewidth\":0,\"ticks\":\"\"},\"colorscale\":[[0.0,\"#0d0887\"],[0.1111111111111111,\"#46039f\"],[0.2222222222222222,\"#7201a8\"],[0.3333333333333333,\"#9c179e\"],[0.4444444444444444,\"#bd3786\"],[0.5555555555555556,\"#d8576b\"],[0.6666666666666666,\"#ed7953\"],[0.7777777777777778,\"#fb9f3a\"],[0.8888888888888888,\"#fdca26\"],[1.0,\"#f0f921\"]]}],\"mesh3d\":[{\"type\":\"mesh3d\",\"colorbar\":{\"outlinewidth\":0,\"ticks\":\"\"}}],\"scatter\":[{\"fillpattern\":{\"fillmode\":\"overlay\",\"size\":10,\"solidity\":0.2},\"type\":\"scatter\"}],\"parcoords\":[{\"type\":\"parcoords\",\"line\":{\"colorbar\":{\"outlinewidth\":0,\"ticks\":\"\"}}}],\"scatterpolargl\":[{\"type\":\"scatterpolargl\",\"marker\":{\"colorbar\":{\"outlinewidth\":0,\"ticks\":\"\"}}}],\"bar\":[{\"error_x\":{\"color\":\"#2a3f5f\"},\"error_y\":{\"color\":\"#2a3f5f\"},\"marker\":{\"line\":{\"color\":\"#E5ECF6\",\"width\":0.5},\"pattern\":{\"fillmode\":\"overlay\",\"size\":10,\"solidity\":0.2}},\"type\":\"bar\"}],\"scattergeo\":[{\"type\":\"scattergeo\",\"marker\":{\"colorbar\":{\"outlinewidth\":0,\"ticks\":\"\"}}}],\"scatterpolar\":[{\"type\":\"scatterpolar\",\"marker\":{\"colorbar\":{\"outlinewidth\":0,\"ticks\":\"\"}}}],\"histogram\":[{\"marker\":{\"pattern\":{\"fillmode\":\"overlay\",\"size\":10,\"solidity\":0.2}},\"type\":\"histogram\"}],\"scattergl\":[{\"type\":\"scattergl\",\"marker\":{\"colorbar\":{\"outlinewidth\":0,\"ticks\":\"\"}}}],\"scatter3d\":[{\"type\":\"scatter3d\",\"line\":{\"colorbar\":{\"outlinewidth\":0,\"ticks\":\"\"}},\"marker\":{\"colorbar\":{\"outlinewidth\":0,\"ticks\":\"\"}}}],\"scattermapbox\":[{\"type\":\"scattermapbox\",\"marker\":{\"colorbar\":{\"outlinewidth\":0,\"ticks\":\"\"}}}],\"scatterternary\":[{\"type\":\"scatterternary\",\"marker\":{\"colorbar\":{\"outlinewidth\":0,\"ticks\":\"\"}}}],\"scattercarpet\":[{\"type\":\"scattercarpet\",\"marker\":{\"colorbar\":{\"outlinewidth\":0,\"ticks\":\"\"}}}],\"carpet\":[{\"aaxis\":{\"endlinecolor\":\"#2a3f5f\",\"gridcolor\":\"white\",\"linecolor\":\"white\",\"minorgridcolor\":\"white\",\"startlinecolor\":\"#2a3f5f\"},\"baxis\":{\"endlinecolor\":\"#2a3f5f\",\"gridcolor\":\"white\",\"linecolor\":\"white\",\"minorgridcolor\":\"white\",\"startlinecolor\":\"#2a3f5f\"},\"type\":\"carpet\"}],\"table\":[{\"cells\":{\"fill\":{\"color\":\"#EBF0F8\"},\"line\":{\"color\":\"white\"}},\"header\":{\"fill\":{\"color\":\"#C8D4E3\"},\"line\":{\"color\":\"white\"}},\"type\":\"table\"}],\"barpolar\":[{\"marker\":{\"line\":{\"color\":\"#E5ECF6\",\"width\":0.5},\"pattern\":{\"fillmode\":\"overlay\",\"size\":10,\"solidity\":0.2}},\"type\":\"barpolar\"}],\"pie\":[{\"automargin\":true,\"type\":\"pie\"}]},\"layout\":{\"autotypenumbers\":\"strict\",\"colorway\":[\"#636efa\",\"#EF553B\",\"#00cc96\",\"#ab63fa\",\"#FFA15A\",\"#19d3f3\",\"#FF6692\",\"#B6E880\",\"#FF97FF\",\"#FECB52\"],\"font\":{\"color\":\"#2a3f5f\"},\"hovermode\":\"closest\",\"hoverlabel\":{\"align\":\"left\"},\"paper_bgcolor\":\"white\",\"plot_bgcolor\":\"#E5ECF6\",\"polar\":{\"bgcolor\":\"#E5ECF6\",\"angularaxis\":{\"gridcolor\":\"white\",\"linecolor\":\"white\",\"ticks\":\"\"},\"radialaxis\":{\"gridcolor\":\"white\",\"linecolor\":\"white\",\"ticks\":\"\"}},\"ternary\":{\"bgcolor\":\"#E5ECF6\",\"aaxis\":{\"gridcolor\":\"white\",\"linecolor\":\"white\",\"ticks\":\"\"},\"baxis\":{\"gridcolor\":\"white\",\"linecolor\":\"white\",\"ticks\":\"\"},\"caxis\":{\"gridcolor\":\"white\",\"linecolor\":\"white\",\"ticks\":\"\"}},\"coloraxis\":{\"colorbar\":{\"outlinewidth\":0,\"ticks\":\"\"}},\"colorscale\":{\"sequential\":[[0.0,\"#0d0887\"],[0.1111111111111111,\"#46039f\"],[0.2222222222222222,\"#7201a8\"],[0.3333333333333333,\"#9c179e\"],[0.4444444444444444,\"#bd3786\"],[0.5555555555555556,\"#d8576b\"],[0.6666666666666666,\"#ed7953\"],[0.7777777777777778,\"#fb9f3a\"],[0.8888888888888888,\"#fdca26\"],[1.0,\"#f0f921\"]],\"sequentialminus\":[[0.0,\"#0d0887\"],[0.1111111111111111,\"#46039f\"],[0.2222222222222222,\"#7201a8\"],[0.3333333333333333,\"#9c179e\"],[0.4444444444444444,\"#bd3786\"],[0.5555555555555556,\"#d8576b\"],[0.6666666666666666,\"#ed7953\"],[0.7777777777777778,\"#fb9f3a\"],[0.8888888888888888,\"#fdca26\"],[1.0,\"#f0f921\"]],\"diverging\":[[0,\"#8e0152\"],[0.1,\"#c51b7d\"],[0.2,\"#de77ae\"],[0.3,\"#f1b6da\"],[0.4,\"#fde0ef\"],[0.5,\"#f7f7f7\"],[0.6,\"#e6f5d0\"],[0.7,\"#b8e186\"],[0.8,\"#7fbc41\"],[0.9,\"#4d9221\"],[1,\"#276419\"]]},\"xaxis\":{\"gridcolor\":\"white\",\"linecolor\":\"white\",\"ticks\":\"\",\"title\":{\"standoff\":15},\"zerolinecolor\":\"white\",\"automargin\":true,\"zerolinewidth\":2},\"yaxis\":{\"gridcolor\":\"white\",\"linecolor\":\"white\",\"ticks\":\"\",\"title\":{\"standoff\":15},\"zerolinecolor\":\"white\",\"automargin\":true,\"zerolinewidth\":2},\"scene\":{\"xaxis\":{\"backgroundcolor\":\"#E5ECF6\",\"gridcolor\":\"white\",\"linecolor\":\"white\",\"showbackground\":true,\"ticks\":\"\",\"zerolinecolor\":\"white\",\"gridwidth\":2},\"yaxis\":{\"backgroundcolor\":\"#E5ECF6\",\"gridcolor\":\"white\",\"linecolor\":\"white\",\"showbackground\":true,\"ticks\":\"\",\"zerolinecolor\":\"white\",\"gridwidth\":2},\"zaxis\":{\"backgroundcolor\":\"#E5ECF6\",\"gridcolor\":\"white\",\"linecolor\":\"white\",\"showbackground\":true,\"ticks\":\"\",\"zerolinecolor\":\"white\",\"gridwidth\":2}},\"shapedefaults\":{\"line\":{\"color\":\"#2a3f5f\"}},\"annotationdefaults\":{\"arrowcolor\":\"#2a3f5f\",\"arrowhead\":0,\"arrowwidth\":1},\"geo\":{\"bgcolor\":\"white\",\"landcolor\":\"#E5ECF6\",\"subunitcolor\":\"white\",\"showland\":true,\"showlakes\":true,\"lakecolor\":\"white\"},\"title\":{\"x\":0.05},\"mapbox\":{\"style\":\"light\"}}}},                        {\"responsive\": true}                    ).then(function(){\n",
              "                            \n",
              "var gd = document.getElementById('3590f1d1-7e57-45f6-b7b4-3d1e29b448fb');\n",
              "var x = new MutationObserver(function (mutations, observer) {{\n",
              "        var display = window.getComputedStyle(gd).display;\n",
              "        if (!display || display === 'none') {{\n",
              "            console.log([gd, 'removed!']);\n",
              "            Plotly.purge(gd);\n",
              "            observer.disconnect();\n",
              "        }}\n",
              "}});\n",
              "\n",
              "// Listen for the removal of the full notebook cells\n",
              "var notebookContainer = gd.closest('#notebook-container');\n",
              "if (notebookContainer) {{\n",
              "    x.observe(notebookContainer, {childList: true});\n",
              "}}\n",
              "\n",
              "// Listen for the clearing of the current output cell\n",
              "var outputEl = gd.closest('.output');\n",
              "if (outputEl) {{\n",
              "    x.observe(outputEl, {childList: true});\n",
              "}}\n",
              "\n",
              "                        })                };                            </script>        </div>\n",
              "</body>\n",
              "</html>"
            ]
          },
          "metadata": {}
        }
      ]
    },
    {
      "cell_type": "code",
      "source": [
        "y_true = 100 + 20 * np.random.randn(1000)\n",
        "y_pred = y_true + 10 * np.random.randn(1000)\n",
        "\n",
        "results = pd.DataFrame({'y_true': y_true, 'y_pred': y_pred})\n",
        "results['error'] = results['y_true'] - results['y_pred']\n",
        "\n",
        "px.histogram(results, x='error', nbins=50, width=800)"
      ],
      "metadata": {
        "colab": {
          "base_uri": "https://localhost:8080/",
          "height": 542
        },
        "id": "TBVD896Q-Gr3",
        "outputId": "74af0769-de15-4b62-d5e9-de01aee18d05"
      },
      "execution_count": 30,
      "outputs": [
        {
          "output_type": "display_data",
          "data": {
            "text/html": [
              "<html>\n",
              "<head><meta charset=\"utf-8\" /></head>\n",
              "<body>\n",
              "    <div>            <script src=\"https://cdnjs.cloudflare.com/ajax/libs/mathjax/2.7.5/MathJax.js?config=TeX-AMS-MML_SVG\"></script><script type=\"text/javascript\">if (window.MathJax && window.MathJax.Hub && window.MathJax.Hub.Config) {window.MathJax.Hub.Config({SVG: {font: \"STIX-Web\"}});}</script>                <script type=\"text/javascript\">window.PlotlyConfig = {MathJaxConfig: 'local'};</script>\n",
              "        <script charset=\"utf-8\" src=\"https://cdn.plot.ly/plotly-2.35.2.min.js\"></script>                <div id=\"32a8c492-aecc-4632-b179-8390e075120d\" class=\"plotly-graph-div\" style=\"height:525px; width:800px;\"></div>            <script type=\"text/javascript\">                                    window.PLOTLYENV=window.PLOTLYENV || {};                                    if (document.getElementById(\"32a8c492-aecc-4632-b179-8390e075120d\")) {                    Plotly.newPlot(                        \"32a8c492-aecc-4632-b179-8390e075120d\",                        [{\"alignmentgroup\":\"True\",\"bingroup\":\"x\",\"hovertemplate\":\"error=%{x}\\u003cbr\\u003ecount=%{y}\\u003cextra\\u003e\\u003c\\u002fextra\\u003e\",\"legendgroup\":\"\",\"marker\":{\"color\":\"#636efa\",\"pattern\":{\"shape\":\"\"}},\"name\":\"\",\"nbinsx\":50,\"offsetgroup\":\"\",\"orientation\":\"v\",\"showlegend\":false,\"x\":[3.4109293214160843,-10.219631550600042,-7.331793174225581,-13.781426804976128,9.90623223377257,3.4319156868671215,-7.589816954601133,-4.480783410128922,-15.323803825876212,-4.205367059040697,-18.48109104105552,-5.400178017231404,-10.621674475886607,3.2351494678445647,-0.1428721188398896,-9.109444038394756,-16.12978170593054,-7.292369493107529,0.8317177193462015,-13.773350295283421,21.919786562798805,14.22234501506874,-6.816342236683894,-0.1410835625312501,-6.055136511241656,-0.6440752243194225,-5.709456946038728,8.144028209931903,-5.704860860796913,-9.944145282075837,-12.205506039312326,-20.135542946487007,-2.4409844350238643,-2.7391108684717835,15.23172464173848,5.314114011384248,1.9308207400661246,-10.503195522763548,6.110011240896291,-7.963400197488326,0.01621716963380493,1.771681151147618,-2.488939691332561,3.9115637225284274,4.290372480926649,17.04785905790115,2.4795420732788926,4.799681461487268,5.159809893490802,-4.168730625900409,-6.586319527905104,-2.3219450464232807,-9.95415190449475,-5.755619258303653,2.9505618980564208,4.628562857143791,-3.128222367668471,-5.7376710990190105,-13.978443070314981,-11.911730449400949,5.414730065071694,1.0200628012726156,-6.710178049177699,-10.679977780589724,-9.389694687047921,0.6387783283134638,12.54022652428516,9.989363762455909,-2.7263351431941487,-3.422255794243455,10.986793734343848,-0.4456961088927187,-6.312243569717836,11.512266575071436,-11.049972018044144,3.7753114855982517,-12.576131125766523,5.334524457759002,10.266254828841795,4.5813698984171936,0.9514812307732043,3.884799067714809,2.160014215731138,-3.3396514967619026,1.7117936979639978,0.661123939520067,17.092263992025963,-3.9169801601047283,0.8920329769166813,-16.102929804828705,9.395651672539586,18.082953284995142,-6.18068493930042,-3.465270183130002,10.08433020531146,15.297489550040908,-15.373967306842914,-14.141103906067826,24.874567587061293,4.582230292565015,-16.641920547838993,4.760625577778669,4.906122340266521,2.8275932762936833,11.208969737681599,17.047757442280442,-10.525473107347494,18.429369062476752,-2.4727145210875534,-8.865794927576488,14.512262989011589,9.242684025950723,-12.131791883915895,-5.328917202270404,6.172857068788872,-12.022490033611717,-12.065357234543029,-2.69052693015707,9.001602278736627,4.134487034717949,-2.8638674395539,1.8859482914748753,-9.389571782348511,15.297740801093354,14.94263529066238,-1.8087111148243196,4.915444138069049,6.270486146977419,17.680567191743975,-0.19545844798182088,0.5275510800076546,-6.534789819517414,-0.6890613312097216,1.3260407824049736,-11.770006367903363,13.124673034485497,-5.363892188475759,16.711471647953488,8.38361880000808,12.126571326233133,-7.819425354519183,0.6541023359539366,0.1350324459297667,11.067329877294512,2.9969349593288968,7.634653033091112,-3.8345501485421636,9.910911353316138,-13.297943652050748,16.75580449624094,8.065198324565614,-16.77200509966096,4.3513874796203424,13.148786644044122,-2.190715625376683,4.753922422145422,8.358702556183061,10.958708107987178,-27.683736056259434,2.515519001841369,19.255673603328773,-14.937097590055345,-6.110709051105701,7.664664310197878,9.331190886861414,-6.734727961582308,2.4691832748945473,19.259778184451008,-17.872399646046688,4.339904622159565,-14.955717364824267,-12.784349579657146,10.010095444828139,-10.331898643631476,6.514425498636811,18.667005868039425,4.2459816602214175,-3.9763750177627912,4.627366479963385,3.070483409251011,-11.435660449286132,-1.0649398029009092,8.432983112849527,-7.020303236673264,-1.976755669542456,25.216048014620426,-4.283529137714481,-3.918287077161011,-0.20121129580860497,-8.917005810695755,6.723935843265025,-3.364997888209018,15.669593711673528,-4.070903833988325,-19.530596955398977,9.948563524675407,7.598021319877745,7.100154428915516,-1.2999822580159588,10.630362728537179,-4.212473786909811,-8.46839945469165,-5.343472134537848,17.684154256380722,-9.951676651586055,-9.3736741425368,-8.30161372346305,-3.7284224865582587,-2.2018931420513326,-10.323893981263964,-19.23513487603455,9.530404633648487,-10.781253957947712,0.8621709800745236,1.2967305202860047,15.365306903820382,2.847894095153947,9.972649579684159,4.638544295059461,10.981863837781503,4.489083873130063,4.061103570234039,-0.9675491843879911,16.147498622913304,14.455181477453237,-3.619142707305258,7.974381170700994,-10.745297902299313,-2.2526972201504663,-6.067621502064071,-14.10692320420894,3.0971081180657194,5.744867054162754,-8.717025855988126,-5.095135639296856,1.8733030982130146,-13.914579669559416,2.1224430983993017,-0.3277363755578193,-0.2122265083425816,9.34593894898471,-0.7758538948639142,-13.96760177398491,-4.449683153761754,-0.31063426398931426,1.6176728116566892,-3.30867028406351,-7.497666284891849,-6.092388308897526,3.3186486182197967,-3.247815941101152,-4.799397411482786,10.07194987526978,-1.6823054118369498,21.61303886302362,-4.825337098211847,-6.603430545626821,-7.475461257864595,3.9504685216956688,-3.090468350240343,-14.239538455411676,-14.137696482912588,0.29172699226560894,-1.3931963072955966,-11.109111447344318,15.008020152621754,3.2307574267702392,-13.355704555367566,-9.752005416847652,-3.6926377764990406,15.058324053306208,0.4991023304116169,5.8991539624993266,-3.310389028172132,8.093466847948804,10.257233949746066,20.648652776836414,-12.21804684976702,3.9977051144305733,-1.5714578370253491,0.02238116474181595,10.67433932960499,12.590649114481934,10.053151259972353,7.231684388293928,-3.666062470138044,7.95717663520611,-17.46490631594621,-10.271510358931508,-8.083595496657082,1.1965890247314945,-15.142807357204845,2.1800563112112457,0.31261414154245415,-1.6997453974926913,-7.018230405433442,-6.369080790029855,4.751252784446038,5.329937194259543,-6.399029571520842,-7.152365838912331,3.9335112482287258,15.871880696784544,2.073160960082447,-6.2352579882585815,-18.054168464197815,11.979579623406607,4.265712528305734,3.8940356152537703,-13.55805339431501,0.34941500458633357,9.073265593722653,-5.586952829218191,4.0463852004094605,12.243872733579536,8.927733072761512,-17.340419544226194,-3.8420922164946205,-1.0776005545254321,2.4989373581204575,-2.9214884211879877,-2.8023594600249453,-2.921688282073262,-1.148450902777526,-8.687983383055496,-0.23104346000731368,9.779388355526393,6.124228909008679,19.79018693489712,-20.26817116042392,-8.627545919526867,8.300704951292374,2.8184484939710046,6.368764742064329,-15.425472113741165,14.19877164270929,-1.1447605881877934,1.0852784256484824,-8.268386307091149,1.0400922772469556,17.58208876655435,2.5111783464244155,9.721622179433254,-0.7957954655656039,-14.34177036520326,17.39425244232278,8.002227353999032,5.526929537834974,3.8163109541321063,-7.401256641052441,1.7354441756138783,-4.158027257204452,6.257730437317761,-2.2992434541793756,-7.777976308777156,7.322995497370883,-7.813581198065151,-0.5237276872756809,-10.454602404822523,2.014199000769736,-3.8124465516209938,0.40606231678530236,0.9621226204057933,-2.5893042822569043,-5.3680746922490385,12.495649119240056,-14.336336088178783,18.59663040549799,6.848121097388955,0.9426907076490068,-4.12355969085948,-15.761725277413774,18.582914882251075,5.0769412838971135,21.268334877992658,-0.316219739102479,-2.716835845000304,-15.907957421712524,-1.20634760893455,-10.440251294423803,-5.83837081539059,4.352481970051684,14.089607467920388,-2.750022982918111,14.921020171453634,-12.952070726696434,1.6206210203682332,-11.951774115114162,4.802144341323995,-2.688507864009921,-2.093488573346889,0.4504411801092374,4.326595133965924,-3.9245601847052,9.261632634832083,12.094353289590586,-12.42826893326827,-7.271679888921014,-0.6589160860224013,-16.651423825437817,2.6776551872484617,-13.227032199889791,-1.755740849258217,10.247507500763902,-18.48040191770849,-9.907108466240857,1.210210310095647,-7.271712595339494,4.037034339979073,-8.291490350595424,23.910785652839593,10.198013336945934,-9.79259744286962,2.4965553821892,-2.0754229488874216,13.46785662115434,-18.478669957021026,-11.905296437176773,2.0068521837532955,4.046958568633258,-10.296043614196932,-19.824704501689283,-9.537602558113534,-21.718026673966023,9.22351329061918,8.193868304987902,11.889411180533486,-4.417606496494798,-1.7560354980437012,1.5195112347198574,-8.092586281232983,-12.323286052146642,15.256624092868421,5.969720279011156,-8.201435941230613,4.677386838585818,7.9820607635815435,-10.18537427650395,12.895000697239794,3.015798077911043,-3.2864402580480885,5.738199139101184,-7.8315565601317445,5.688769751973695,-14.0861949344592,1.2574629749577184,-6.7127013670535405,-7.460239529828158,6.275400027440725,20.534865486558886,-3.607557546638347,-0.7228834712486929,-5.55826027575128,2.2652747238283837,4.30427698800716,-20.084730109816988,14.72354061510778,-7.339504783642383,5.7460185818339085,3.357786177404222,3.1710283257396554,8.034342741712564,-5.712242102362396,-13.906435959499575,-4.700136612466615,-1.033819962120944,9.864404990992469,-5.168252658244512,-21.563496317292987,3.8069462379509247,3.7598357935186613,5.610891309809972,4.8941423449442,27.452995536723847,-4.050353858557131,8.45552176354613,16.102631187918007,-7.531899497325483,10.820177850419363,3.38669053883757,-14.664423911885805,14.092157980245133,15.325982345977621,-2.693061895623387,-11.494873640103677,15.743417177319628,-4.07689736837176,-5.809995399616923,20.59160483692321,-7.9850133790722,-8.766058798421795,3.117855732560244,-12.523463622980074,-11.364555743248445,-1.0311792571720417,4.514453903249333,9.72827892582957,0.37563509366191283,-5.697589197041793,3.2417686104064103,21.97501005262029,-12.687138945765696,-1.902232218448944,3.7962449667683416,-8.57158388423288,-15.246385964827567,28.01911569487892,-4.342636499220703,14.26649210810347,-4.991105067989409,-1.27927202374579,-6.357265264405498,4.992476144946551,18.732401118191518,4.503681912566677,-4.068476351397834,-10.153923286752232,11.718313004725246,-10.270604268730182,6.478722896465214,-3.624498815945259,5.098939528656331,-1.8217062771210237,-8.918776345702753,12.270140772885355,6.799058967468312,-1.8496258734208624,-24.015836610303523,8.631897121668274,-20.401338859969187,-20.044233036751706,0.9731115070159149,2.9815252619989963,6.9206519866469165,0.6820253033266965,14.06719432559558,0.7623901732059721,-14.968802738508558,6.110850624767181,2.4072430398905027,17.011404742672426,-3.7406208813104342,-2.644816849513745,-0.6370235976577021,2.168270502221432,2.9275791877245467,-5.019002337006718,0.28816601588623314,-3.1497187155533197,-2.149828174545476,-11.23427287095761,-6.769940973750536,-1.9286184315019028,-15.184220306521794,-4.202685290565611,-13.049626887904182,-6.069426083866375,18.419190789315422,-13.048347633193302,-1.351762413426684,0.5195477090077816,-2.8134834748957758,3.4498316195706735,-2.2702886038894405,5.91876066343093,-12.742722587343707,1.1358811362105001,3.8258384272243404,9.249258157192742,-2.687757891486413,-1.8710710012509253,-3.8842461367750616,10.27251887505129,16.011811988115724,-6.255913025065595,-14.846418618765085,10.263536223898967,-15.89441283561699,-2.8391105873638054,0.07062904550829785,3.975486965457776,13.845180194249963,-9.877285159246,7.756063614376032,7.798066757376006,-9.91926309886955,18.829834466717266,15.23597810668167,0.18134243508080772,-2.9328442900485214,-4.847346479689236,3.0179849339625235,-25.3036966864169,2.2789255876583354,2.3078615210272204,7.969866688138779,-1.2390681652107105,-6.149612320467753,-12.035780545334603,14.89284264440218,2.459953383557007,-4.467036108091449,-5.870575345945355,-0.0654865780453946,-5.424239695321006,8.089638929258001,-15.57905432318357,-9.926281029794296,13.449277870651727,10.751030481167561,10.469217501069068,-6.779699708965282,12.847277664174669,3.3102433420808097,-4.547043964167742,0.6616593454643436,-2.588875157127063,10.658027113487577,-5.948543733972443,6.132118924759965,3.246196743979411,-2.3773172790598665,-1.0307822153084771,-0.23980019015593257,7.506268219767563,2.995494111991917,-0.02183590837034899,13.750852331670856,4.625329663133783,-3.876798790328465,12.774366038453422,-11.565816515942402,-12.69613262599843,12.451505759600856,-13.57619633050139,1.4358158871213504,-4.185145591570546,4.966510521282473,-9.230448272267608,-4.0609401884866685,8.141532565976036,11.652019999652879,14.603024352092234,-1.8794177643275702,-5.724714117797362,-6.5096567877944125,1.179810946073772,11.56996455664364,6.820747980237833,-11.523486389619265,4.846285646000808,-1.4341763068147628,10.75650483574887,-3.365830454590352,4.576845616790777,-10.467127137757629,-7.735577062068131,4.957059465748998,1.2666402734766393,5.511162400406292,14.19433196545009,8.57442429547217,-1.9821732772082044,-3.2525949822958182,-1.4854790359263887,3.0173305395863537,-9.330666057209868,-0.6354190456093676,-7.032538280959471,17.73775132202519,39.224002516183425,-2.837880278380794,14.247656537214894,2.1245170271305653,3.0209704102460506,-15.874006024155364,-3.999965529436068,-1.6585902679867246,-8.369911546336738,-3.6849758683903815,4.576769929884335,-10.714759302545588,11.097501278882746,-3.2324718753356194,15.475697941363109,-2.0394385751599486,-1.9298964177292959,-16.764549619146635,15.649738934417798,6.00887175853812,-8.226824265741442,-3.353172563973075,-1.8030505133750268,9.561357029585395,5.908183480914289,-12.450410082232565,0.5150919375392817,-3.753596961444728,1.1518832877647895,11.830855152497648,-9.338104260749972,-5.032323845324967,-23.056368373671887,10.155813796505456,-8.225729212004808,13.115439660370015,-1.5734656767307769,-9.765065890631647,20.721351160964872,2.0493247424160757,5.632097340426199,7.0195729829512175,-3.8521265225935366,-11.206857064225957,1.3327871522915586,-2.0548642756001954,-1.1430875305924815,-0.01803506356414175,10.89342637712106,-11.084446017228927,-2.951953681588364,-3.9488149000257806,8.065096290255823,4.592203979892403,1.76134197710779,15.341246934488517,16.880343251976782,6.007479306385676,-5.225207664423905,6.53137389929941,10.188051975907129,8.146856532376702,4.553424231453121,3.538589628201038,-21.655214522065577,-10.546206284873179,-10.247741122817274,-11.685803642733816,9.988208693340496,12.223646149872394,11.068702915340566,-13.345061333378382,5.471917888824905,12.513561822392873,4.309962002198134,2.3860553171462726,-2.684132736945628,-2.509510207120428,8.28180563873508,-6.8565639251371095,6.391935337501593,1.5627633670504366,-6.867740705033555,6.418214039443413,5.693514235811378,-5.916680496931306,8.577331766050193,3.847920236040707,-5.557421780428925,-20.540924414359758,-6.0540450476274685,-4.72639762990012,-5.308015836727293,10.731902740670492,-1.1559673867990767,0.2976648833640212,-3.215845403727556,-1.1650805247587073,-3.79699677417112,3.1146719489920116,-0.586089173717923,12.27828566056992,3.199072780029141,-13.908335481766429,-3.1880833962825648,0.20921037383077135,-18.961232762543474,13.608349783010794,11.094555554462204,-17.127114112762726,-0.4596093604893383,2.4258303628979405,11.992043250956428,-4.476962663950118,-5.444598695274635,10.944943608348964,1.4027558555042816,3.355158320330659,-2.5597714641877047,11.192502422206445,-12.519474545131573,-9.158237815976037,3.6317555873281577,2.164187116383715,1.3642215027761608,7.783085530065023,4.4342941823503566,2.702703676746097,-16.128683707071275,-9.466183083304372,-9.346547073366239,-3.6992561300439064,11.173270089312354,0.4149110457737919,-9.704884596133795,12.58264629367288,-6.365532068732648,-23.226092252627666,-10.61816645989731,-14.14029135561988,-2.183387504421603,-9.679319487649906,7.178532143540352,-7.958638123412271,-6.543881340607626,-2.8991117403766253,-13.160074197184997,5.38784837847389,1.8705751647366284,-0.9546204135829726,10.296109710894001,-2.2693194380024835,17.18930412953847,-10.469545344282096,-0.46637366565965976,5.208929039037628,8.343736122951213,2.345790296191879,-6.882597107724138,-5.4773897873756,7.055379472784608,8.460396726276343,-6.568987063196474,7.223474046150301,-0.5990977407950311,-1.237546425242769,-3.1206213172673785,-8.582704301818723,12.629629368673235,19.111593252604877,5.674472812283511,-18.015284078321855,-20.22174100087379,-18.311771355658877,1.9298136776069015,17.821150819848285,23.430391016518413,6.140381615494107,1.9807363014936072,-13.006254010559587,-8.678054595424456,-2.2740507899162026,8.898447709411414,9.607795582448901,-2.5412768707143556,-6.9705097883972655,-3.918812622455846,10.345979596066556,-6.506676287920868,-4.259109671014116,10.70666406190179,7.843209703002557,-6.88495974561566,2.3450753514589167,-15.891473016364571,-5.011292760645759,4.866311881892685,0.10205600390932545,-0.6338339263771786,7.283903132417095,9.12588198177626,-7.0138989380949965,-8.452732970420954,-6.03781469552959,-15.153180943238027,5.41773236011602,-16.742707660711304,9.009211185541531,10.126855633684926,17.599588821492503,4.4579531382681665,5.0372233682945335,-5.259372802546508,-2.4389094162045097,11.929733710191371,3.927262384258171,3.714620210876859,17.759822469618925,9.809467270133695,7.708136306140901,-14.336250198209456,-1.9145071595735317,-6.621687539474991,14.98635497149212,-11.942144830139924,-13.011020630240935,19.98344967144625,7.053167239158483,-4.957655730155096,-6.443884535381827,6.784947304872219,3.0549946305365268,5.973810610451423,-1.1041804694611983,-11.971785314619126,7.710421571412041,-10.008204977684144,7.816720723468876,8.476272124968844,-8.185946183432137,-9.219363780076165,-8.514099367626542,13.157974082181411,4.659509780720512,-8.229885920033212,-0.4154184056389454,10.736928461974642,-4.5831793912544185,7.148072589914705,-17.945248483922114,-15.44841462418259,-6.0409742635556825,-13.61006704769774,-0.6479135012338162,-7.654374943750156,-14.777202953020748,-2.454986817943123,2.5518717151428376,17.046219581771155,0.8313352572149455,-8.234231845623114,-9.456334275676298,-5.043650657184102,5.412990949622397,19.76821568947591,4.9521509800473495,3.043448710539508,3.129289671900139,-6.185563569779248,-19.85676411014839,-1.2352920184109308,2.167317891564622,2.5922181300409193,-1.243847669077141,8.282937603483987,-1.2019855874605554,-4.508123363318006,-2.096860635744875,-4.575419340047816,-4.33747609348535,17.718966822464438,-6.368701583954035,6.7101484566245375,10.958391630039571,11.044518278549958,-4.335416104725297,2.2257492722485352,16.81968783985411,-4.780378151922832,14.396081307988268,-1.3982135851821056,-2.3849892567305346,-8.855770816950454,-17.816847864668517,13.64676325900541,0.524738560630496,2.7633529504421688,-4.3374968596096295,-2.1566877093361825,3.525462427366193,4.4090218861085475,11.16450855184047,-9.878615824065093,-4.592041815995287,-9.17768197795138,3.1039613647551363,6.5683546869443035,10.783150666292272,-3.5891758374066,10.397932245282348,-18.486630689665503,13.07642581093441,-2.736601192125022,-15.668547072137855,-5.990897592638092,-1.756737124917791,9.684836469618944,13.817691885677036,-7.700501089175859,-15.061472407749463,4.38849990478171,11.390615076163513,24.58169430549019,9.807648436625371,1.1365684249904007,-15.991232408367338,-6.731336922329689,-3.0508540470675314,4.001196613011302,5.831657172559559],\"xaxis\":\"x\",\"yaxis\":\"y\",\"type\":\"histogram\"}],                        {\"template\":{\"data\":{\"histogram2dcontour\":[{\"type\":\"histogram2dcontour\",\"colorbar\":{\"outlinewidth\":0,\"ticks\":\"\"},\"colorscale\":[[0.0,\"#0d0887\"],[0.1111111111111111,\"#46039f\"],[0.2222222222222222,\"#7201a8\"],[0.3333333333333333,\"#9c179e\"],[0.4444444444444444,\"#bd3786\"],[0.5555555555555556,\"#d8576b\"],[0.6666666666666666,\"#ed7953\"],[0.7777777777777778,\"#fb9f3a\"],[0.8888888888888888,\"#fdca26\"],[1.0,\"#f0f921\"]]}],\"choropleth\":[{\"type\":\"choropleth\",\"colorbar\":{\"outlinewidth\":0,\"ticks\":\"\"}}],\"histogram2d\":[{\"type\":\"histogram2d\",\"colorbar\":{\"outlinewidth\":0,\"ticks\":\"\"},\"colorscale\":[[0.0,\"#0d0887\"],[0.1111111111111111,\"#46039f\"],[0.2222222222222222,\"#7201a8\"],[0.3333333333333333,\"#9c179e\"],[0.4444444444444444,\"#bd3786\"],[0.5555555555555556,\"#d8576b\"],[0.6666666666666666,\"#ed7953\"],[0.7777777777777778,\"#fb9f3a\"],[0.8888888888888888,\"#fdca26\"],[1.0,\"#f0f921\"]]}],\"heatmap\":[{\"type\":\"heatmap\",\"colorbar\":{\"outlinewidth\":0,\"ticks\":\"\"},\"colorscale\":[[0.0,\"#0d0887\"],[0.1111111111111111,\"#46039f\"],[0.2222222222222222,\"#7201a8\"],[0.3333333333333333,\"#9c179e\"],[0.4444444444444444,\"#bd3786\"],[0.5555555555555556,\"#d8576b\"],[0.6666666666666666,\"#ed7953\"],[0.7777777777777778,\"#fb9f3a\"],[0.8888888888888888,\"#fdca26\"],[1.0,\"#f0f921\"]]}],\"heatmapgl\":[{\"type\":\"heatmapgl\",\"colorbar\":{\"outlinewidth\":0,\"ticks\":\"\"},\"colorscale\":[[0.0,\"#0d0887\"],[0.1111111111111111,\"#46039f\"],[0.2222222222222222,\"#7201a8\"],[0.3333333333333333,\"#9c179e\"],[0.4444444444444444,\"#bd3786\"],[0.5555555555555556,\"#d8576b\"],[0.6666666666666666,\"#ed7953\"],[0.7777777777777778,\"#fb9f3a\"],[0.8888888888888888,\"#fdca26\"],[1.0,\"#f0f921\"]]}],\"contourcarpet\":[{\"type\":\"contourcarpet\",\"colorbar\":{\"outlinewidth\":0,\"ticks\":\"\"}}],\"contour\":[{\"type\":\"contour\",\"colorbar\":{\"outlinewidth\":0,\"ticks\":\"\"},\"colorscale\":[[0.0,\"#0d0887\"],[0.1111111111111111,\"#46039f\"],[0.2222222222222222,\"#7201a8\"],[0.3333333333333333,\"#9c179e\"],[0.4444444444444444,\"#bd3786\"],[0.5555555555555556,\"#d8576b\"],[0.6666666666666666,\"#ed7953\"],[0.7777777777777778,\"#fb9f3a\"],[0.8888888888888888,\"#fdca26\"],[1.0,\"#f0f921\"]]}],\"surface\":[{\"type\":\"surface\",\"colorbar\":{\"outlinewidth\":0,\"ticks\":\"\"},\"colorscale\":[[0.0,\"#0d0887\"],[0.1111111111111111,\"#46039f\"],[0.2222222222222222,\"#7201a8\"],[0.3333333333333333,\"#9c179e\"],[0.4444444444444444,\"#bd3786\"],[0.5555555555555556,\"#d8576b\"],[0.6666666666666666,\"#ed7953\"],[0.7777777777777778,\"#fb9f3a\"],[0.8888888888888888,\"#fdca26\"],[1.0,\"#f0f921\"]]}],\"mesh3d\":[{\"type\":\"mesh3d\",\"colorbar\":{\"outlinewidth\":0,\"ticks\":\"\"}}],\"scatter\":[{\"fillpattern\":{\"fillmode\":\"overlay\",\"size\":10,\"solidity\":0.2},\"type\":\"scatter\"}],\"parcoords\":[{\"type\":\"parcoords\",\"line\":{\"colorbar\":{\"outlinewidth\":0,\"ticks\":\"\"}}}],\"scatterpolargl\":[{\"type\":\"scatterpolargl\",\"marker\":{\"colorbar\":{\"outlinewidth\":0,\"ticks\":\"\"}}}],\"bar\":[{\"error_x\":{\"color\":\"#2a3f5f\"},\"error_y\":{\"color\":\"#2a3f5f\"},\"marker\":{\"line\":{\"color\":\"#E5ECF6\",\"width\":0.5},\"pattern\":{\"fillmode\":\"overlay\",\"size\":10,\"solidity\":0.2}},\"type\":\"bar\"}],\"scattergeo\":[{\"type\":\"scattergeo\",\"marker\":{\"colorbar\":{\"outlinewidth\":0,\"ticks\":\"\"}}}],\"scatterpolar\":[{\"type\":\"scatterpolar\",\"marker\":{\"colorbar\":{\"outlinewidth\":0,\"ticks\":\"\"}}}],\"histogram\":[{\"marker\":{\"pattern\":{\"fillmode\":\"overlay\",\"size\":10,\"solidity\":0.2}},\"type\":\"histogram\"}],\"scattergl\":[{\"type\":\"scattergl\",\"marker\":{\"colorbar\":{\"outlinewidth\":0,\"ticks\":\"\"}}}],\"scatter3d\":[{\"type\":\"scatter3d\",\"line\":{\"colorbar\":{\"outlinewidth\":0,\"ticks\":\"\"}},\"marker\":{\"colorbar\":{\"outlinewidth\":0,\"ticks\":\"\"}}}],\"scattermapbox\":[{\"type\":\"scattermapbox\",\"marker\":{\"colorbar\":{\"outlinewidth\":0,\"ticks\":\"\"}}}],\"scatterternary\":[{\"type\":\"scatterternary\",\"marker\":{\"colorbar\":{\"outlinewidth\":0,\"ticks\":\"\"}}}],\"scattercarpet\":[{\"type\":\"scattercarpet\",\"marker\":{\"colorbar\":{\"outlinewidth\":0,\"ticks\":\"\"}}}],\"carpet\":[{\"aaxis\":{\"endlinecolor\":\"#2a3f5f\",\"gridcolor\":\"white\",\"linecolor\":\"white\",\"minorgridcolor\":\"white\",\"startlinecolor\":\"#2a3f5f\"},\"baxis\":{\"endlinecolor\":\"#2a3f5f\",\"gridcolor\":\"white\",\"linecolor\":\"white\",\"minorgridcolor\":\"white\",\"startlinecolor\":\"#2a3f5f\"},\"type\":\"carpet\"}],\"table\":[{\"cells\":{\"fill\":{\"color\":\"#EBF0F8\"},\"line\":{\"color\":\"white\"}},\"header\":{\"fill\":{\"color\":\"#C8D4E3\"},\"line\":{\"color\":\"white\"}},\"type\":\"table\"}],\"barpolar\":[{\"marker\":{\"line\":{\"color\":\"#E5ECF6\",\"width\":0.5},\"pattern\":{\"fillmode\":\"overlay\",\"size\":10,\"solidity\":0.2}},\"type\":\"barpolar\"}],\"pie\":[{\"automargin\":true,\"type\":\"pie\"}]},\"layout\":{\"autotypenumbers\":\"strict\",\"colorway\":[\"#636efa\",\"#EF553B\",\"#00cc96\",\"#ab63fa\",\"#FFA15A\",\"#19d3f3\",\"#FF6692\",\"#B6E880\",\"#FF97FF\",\"#FECB52\"],\"font\":{\"color\":\"#2a3f5f\"},\"hovermode\":\"closest\",\"hoverlabel\":{\"align\":\"left\"},\"paper_bgcolor\":\"white\",\"plot_bgcolor\":\"#E5ECF6\",\"polar\":{\"bgcolor\":\"#E5ECF6\",\"angularaxis\":{\"gridcolor\":\"white\",\"linecolor\":\"white\",\"ticks\":\"\"},\"radialaxis\":{\"gridcolor\":\"white\",\"linecolor\":\"white\",\"ticks\":\"\"}},\"ternary\":{\"bgcolor\":\"#E5ECF6\",\"aaxis\":{\"gridcolor\":\"white\",\"linecolor\":\"white\",\"ticks\":\"\"},\"baxis\":{\"gridcolor\":\"white\",\"linecolor\":\"white\",\"ticks\":\"\"},\"caxis\":{\"gridcolor\":\"white\",\"linecolor\":\"white\",\"ticks\":\"\"}},\"coloraxis\":{\"colorbar\":{\"outlinewidth\":0,\"ticks\":\"\"}},\"colorscale\":{\"sequential\":[[0.0,\"#0d0887\"],[0.1111111111111111,\"#46039f\"],[0.2222222222222222,\"#7201a8\"],[0.3333333333333333,\"#9c179e\"],[0.4444444444444444,\"#bd3786\"],[0.5555555555555556,\"#d8576b\"],[0.6666666666666666,\"#ed7953\"],[0.7777777777777778,\"#fb9f3a\"],[0.8888888888888888,\"#fdca26\"],[1.0,\"#f0f921\"]],\"sequentialminus\":[[0.0,\"#0d0887\"],[0.1111111111111111,\"#46039f\"],[0.2222222222222222,\"#7201a8\"],[0.3333333333333333,\"#9c179e\"],[0.4444444444444444,\"#bd3786\"],[0.5555555555555556,\"#d8576b\"],[0.6666666666666666,\"#ed7953\"],[0.7777777777777778,\"#fb9f3a\"],[0.8888888888888888,\"#fdca26\"],[1.0,\"#f0f921\"]],\"diverging\":[[0,\"#8e0152\"],[0.1,\"#c51b7d\"],[0.2,\"#de77ae\"],[0.3,\"#f1b6da\"],[0.4,\"#fde0ef\"],[0.5,\"#f7f7f7\"],[0.6,\"#e6f5d0\"],[0.7,\"#b8e186\"],[0.8,\"#7fbc41\"],[0.9,\"#4d9221\"],[1,\"#276419\"]]},\"xaxis\":{\"gridcolor\":\"white\",\"linecolor\":\"white\",\"ticks\":\"\",\"title\":{\"standoff\":15},\"zerolinecolor\":\"white\",\"automargin\":true,\"zerolinewidth\":2},\"yaxis\":{\"gridcolor\":\"white\",\"linecolor\":\"white\",\"ticks\":\"\",\"title\":{\"standoff\":15},\"zerolinecolor\":\"white\",\"automargin\":true,\"zerolinewidth\":2},\"scene\":{\"xaxis\":{\"backgroundcolor\":\"#E5ECF6\",\"gridcolor\":\"white\",\"linecolor\":\"white\",\"showbackground\":true,\"ticks\":\"\",\"zerolinecolor\":\"white\",\"gridwidth\":2},\"yaxis\":{\"backgroundcolor\":\"#E5ECF6\",\"gridcolor\":\"white\",\"linecolor\":\"white\",\"showbackground\":true,\"ticks\":\"\",\"zerolinecolor\":\"white\",\"gridwidth\":2},\"zaxis\":{\"backgroundcolor\":\"#E5ECF6\",\"gridcolor\":\"white\",\"linecolor\":\"white\",\"showbackground\":true,\"ticks\":\"\",\"zerolinecolor\":\"white\",\"gridwidth\":2}},\"shapedefaults\":{\"line\":{\"color\":\"#2a3f5f\"}},\"annotationdefaults\":{\"arrowcolor\":\"#2a3f5f\",\"arrowhead\":0,\"arrowwidth\":1},\"geo\":{\"bgcolor\":\"white\",\"landcolor\":\"#E5ECF6\",\"subunitcolor\":\"white\",\"showland\":true,\"showlakes\":true,\"lakecolor\":\"white\"},\"title\":{\"x\":0.05},\"mapbox\":{\"style\":\"light\"}}},\"xaxis\":{\"anchor\":\"y\",\"domain\":[0.0,1.0],\"title\":{\"text\":\"error\"}},\"yaxis\":{\"anchor\":\"x\",\"domain\":[0.0,1.0],\"title\":{\"text\":\"count\"}},\"legend\":{\"tracegroupgap\":0},\"margin\":{\"t\":60},\"barmode\":\"relative\",\"width\":800},                        {\"responsive\": true}                    ).then(function(){\n",
              "                            \n",
              "var gd = document.getElementById('32a8c492-aecc-4632-b179-8390e075120d');\n",
              "var x = new MutationObserver(function (mutations, observer) {{\n",
              "        var display = window.getComputedStyle(gd).display;\n",
              "        if (!display || display === 'none') {{\n",
              "            console.log([gd, 'removed!']);\n",
              "            Plotly.purge(gd);\n",
              "            observer.disconnect();\n",
              "        }}\n",
              "}});\n",
              "\n",
              "// Listen for the removal of the full notebook cells\n",
              "var notebookContainer = gd.closest('#notebook-container');\n",
              "if (notebookContainer) {{\n",
              "    x.observe(notebookContainer, {childList: true});\n",
              "}}\n",
              "\n",
              "// Listen for the clearing of the current output cell\n",
              "var outputEl = gd.closest('.output');\n",
              "if (outputEl) {{\n",
              "    x.observe(outputEl, {childList: true});\n",
              "}}\n",
              "\n",
              "                        })                };                            </script>        </div>\n",
              "</body>\n",
              "</html>"
            ]
          },
          "metadata": {}
        }
      ]
    },
    {
      "cell_type": "markdown",
      "source": [
        "### <a name='a3'></a> Mean Absolute Error - Średni błąd bezwzględny\n",
        "### $$MAE = \\frac{1}{n}\\sum_{i=1}^{n}|y_{true} - y_{pred}|$$"
      ],
      "metadata": {
        "id": "qoWcrSqhwEer"
      }
    },
    {
      "cell_type": "code",
      "source": [
        "def mean_absolute_error(y_true, y_pred):\n",
        "    return abs(y_true - y_pred).sum() / len(y_true)\n",
        "\n",
        "mean_absolute_error(y_true, y_pred)"
      ],
      "metadata": {
        "colab": {
          "base_uri": "https://localhost:8080/"
        },
        "id": "L0O6dJZ0AQuP",
        "outputId": "64832cb4-df60-4ecb-bbf6-2653a2a397df"
      },
      "execution_count": 31,
      "outputs": [
        {
          "output_type": "execute_result",
          "data": {
            "text/plain": [
              "7.752007217434794"
            ]
          },
          "metadata": {},
          "execution_count": 31
        }
      ]
    },
    {
      "cell_type": "code",
      "source": [
        "from sklearn.metrics import mean_absolute_error\n",
        "\n",
        "mean_absolute_error(y_true, y_pred)"
      ],
      "metadata": {
        "colab": {
          "base_uri": "https://localhost:8080/"
        },
        "id": "y6QsVWbVAlRq",
        "outputId": "63f7d5ad-fdab-495a-968d-5505b3ce944f"
      },
      "execution_count": 32,
      "outputs": [
        {
          "output_type": "execute_result",
          "data": {
            "text/plain": [
              "7.752007217434794"
            ]
          },
          "metadata": {},
          "execution_count": 32
        }
      ]
    },
    {
      "cell_type": "markdown",
      "source": [
        "### <a name='a4'></a> Mean Squared Error - MSE - Błąd średniokwadratowy\n",
        "### $$MSE = \\frac{1}{n}\\sum_{i=1}^{n}(y_{true} - y_{pred})^{2}$$"
      ],
      "metadata": {
        "id": "Donwq03jwGvK"
      }
    },
    {
      "cell_type": "code",
      "source": [
        "def mean_squared_error(y_true, y_pred):\n",
        "    return ((y_true - y_pred) ** 2).sum() / len(y_true)\n",
        "\n",
        "mean_squared_error(y_true, y_pred)"
      ],
      "metadata": {
        "colab": {
          "base_uri": "https://localhost:8080/"
        },
        "id": "T_LFtrIVAxym",
        "outputId": "0bb3631d-26b3-458b-c96c-4fa35dee73a1"
      },
      "execution_count": 33,
      "outputs": [
        {
          "output_type": "execute_result",
          "data": {
            "text/plain": [
              "92.35729283538603"
            ]
          },
          "metadata": {},
          "execution_count": 33
        }
      ]
    },
    {
      "cell_type": "code",
      "source": [
        "from sklearn.metrics import mean_squared_error\n",
        "\n",
        "mean_squared_error(y_true, y_pred)"
      ],
      "metadata": {
        "colab": {
          "base_uri": "https://localhost:8080/"
        },
        "id": "p1IJPEinBJKr",
        "outputId": "486020bf-91f0-4331-c48b-eae5f9321160"
      },
      "execution_count": 34,
      "outputs": [
        {
          "output_type": "execute_result",
          "data": {
            "text/plain": [
              "92.35729283538603"
            ]
          },
          "metadata": {},
          "execution_count": 34
        }
      ]
    },
    {
      "cell_type": "markdown",
      "source": [
        "### <a name='a5'></a> Root Mean Squared Error - RMSE - Pierwiastek błędu średniokwadratowego\n",
        "### $$RMSE = \\sqrt{MSE}$$"
      ],
      "metadata": {
        "id": "alRD8B_uwKgu"
      }
    },
    {
      "cell_type": "code",
      "source": [
        "def root_mean_squared_error(y_true, y_pred):\n",
        "    return np.sqrt(mean_squared_error(y_true, y_pred))\n",
        "\n",
        "root_mean_squared_error(y_true, y_pred)"
      ],
      "metadata": {
        "colab": {
          "base_uri": "https://localhost:8080/"
        },
        "id": "5S5wSA4jCCdj",
        "outputId": "bbebabfa-63af-4519-fe08-e0da92f26db9"
      },
      "execution_count": 36,
      "outputs": [
        {
          "output_type": "execute_result",
          "data": {
            "text/plain": [
              "9.610270174942327"
            ]
          },
          "metadata": {},
          "execution_count": 36
        }
      ]
    },
    {
      "cell_type": "code",
      "source": [
        "np.sqrt(mean_squared_error(y_true, y_pred))"
      ],
      "metadata": {
        "colab": {
          "base_uri": "https://localhost:8080/"
        },
        "id": "IE1LEQ3bCm93",
        "outputId": "3283b52e-92da-4fb8-c67a-cbb909dc307e"
      },
      "execution_count": 37,
      "outputs": [
        {
          "output_type": "execute_result",
          "data": {
            "text/plain": [
              "9.610270174942327"
            ]
          },
          "metadata": {},
          "execution_count": 37
        }
      ]
    },
    {
      "cell_type": "markdown",
      "source": [
        "### <a name='a6'></a>  Max Error - Błąd maksymalny\n",
        "\n",
        "$$ME = max(|y\\_true - y\\_pred|)$$"
      ],
      "metadata": {
        "id": "VNRypDWBwNN2"
      }
    },
    {
      "cell_type": "code",
      "source": [
        "def max_error(y_true, y_pred):\n",
        "    return abs(y_true - y_pred).max()"
      ],
      "metadata": {
        "id": "ffKpeGQLCwVG"
      },
      "execution_count": 38,
      "outputs": []
    },
    {
      "cell_type": "code",
      "source": [
        "max_error(y_true, y_pred)"
      ],
      "metadata": {
        "colab": {
          "base_uri": "https://localhost:8080/"
        },
        "id": "ftU9MJGBC43q",
        "outputId": "d009757d-5168-4957-8f95-f39cbce42cdf"
      },
      "execution_count": 39,
      "outputs": [
        {
          "output_type": "execute_result",
          "data": {
            "text/plain": [
              "39.224002516183425"
            ]
          },
          "metadata": {},
          "execution_count": 39
        }
      ]
    },
    {
      "cell_type": "code",
      "source": [
        "from sklearn.metrics import max_error\n",
        "\n",
        "max_error(y_true, y_pred)"
      ],
      "metadata": {
        "colab": {
          "base_uri": "https://localhost:8080/"
        },
        "id": "hz6v6RY2C8_2",
        "outputId": "96949af3-d0d4-47f8-e26e-6254b94a49db"
      },
      "execution_count": 40,
      "outputs": [
        {
          "output_type": "execute_result",
          "data": {
            "text/plain": [
              "39.224002516183425"
            ]
          },
          "metadata": {},
          "execution_count": 40
        }
      ]
    },
    {
      "cell_type": "markdown",
      "source": [
        "### <a name='a7'></a>  R2 score - współczynnik determinacji\n",
        "### $$R2\\_score = 1 - \\frac{\\sum_{i=1}^{N}(y_{true} - y_{pred})^{2}}{\\sum_{i=1}^{N}(y_{true} - \\overline{y_{true}})^{2}}$$"
      ],
      "metadata": {
        "id": "I8_pRCDgwPM-"
      }
    },
    {
      "cell_type": "code",
      "source": [
        "from sklearn.metrics import r2_score\n",
        "\n",
        "r2_score(y_true, y_pred)"
      ],
      "metadata": {
        "colab": {
          "base_uri": "https://localhost:8080/"
        },
        "id": "QH96RtwdC4WG",
        "outputId": "acbee93d-268d-4829-ac39-05a95b3c409d"
      },
      "execution_count": 41,
      "outputs": [
        {
          "output_type": "execute_result",
          "data": {
            "text/plain": [
              "0.7716069793642648"
            ]
          },
          "metadata": {},
          "execution_count": 41
        }
      ]
    },
    {
      "cell_type": "code",
      "source": [
        "def r2_score(y_true, y_pred):\n",
        "    numerator = ((y_true - y_pred) **2).sum()\n",
        "    denominator = ((y_true - y_true.mean() **2).sum())\n",
        "    try:\n",
        "        r2 = 1 - numerator / denominator\n",
        "    except ZeroDivisionError:\n",
        "        print('Dzielenie przez zero!')\n",
        "    return r2"
      ],
      "metadata": {
        "id": "67PiLTybDl7r"
      },
      "execution_count": 42,
      "outputs": []
    },
    {
      "cell_type": "code",
      "source": [
        "r2_score(y_true, y_pred)"
      ],
      "metadata": {
        "colab": {
          "base_uri": "https://localhost:8080/"
        },
        "id": "dJRNjBsIDmGu",
        "outputId": "d962fd8f-9585-4c26-e681-ef2e889d34fe"
      },
      "execution_count": 43,
      "outputs": [
        {
          "output_type": "execute_result",
          "data": {
            "text/plain": [
              "1.0092489282209098"
            ]
          },
          "metadata": {},
          "execution_count": 43
        }
      ]
    }
  ]
}